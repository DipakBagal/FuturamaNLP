{
 "cells": [
  {
   "cell_type": "markdown",
   "metadata": {},
   "source": [
    "# Preliminary EDA + Dimensionality Reduction\n",
    "Not much to show in this notebook. Just preliminary analysis, basic dimensionality reduction using Chi-Squared Feature Selection, LSA, NMF, and LDA and some basic classification attempts."
   ]
  },
  {
   "cell_type": "code",
   "execution_count": 1,
   "metadata": {},
   "outputs": [],
   "source": [
    "%config InlineBackend.figure_format = 'retina'\n",
    "import matplotlib.pyplot as plt\n",
    "import pandas as pd\n",
    "import numpy as np\n",
    "import pickle\n",
    "import string\n",
    "import seaborn as sns\n",
    "\n",
    "from scipy import stats\n",
    "from collections import Counter\n",
    "\n",
    "from sklearn.feature_extraction.text import CountVectorizer, TfidfVectorizer\n",
    "from sklearn.decomposition import TruncatedSVD\n",
    "from sklearn.decomposition import NMF\n",
    "from sklearn.metrics.pairwise import cosine_similarity\n",
    "from sklearn.feature_extraction import text\n",
    "\n",
    "from sklearn import datasets\n",
    "from sklearn.neighbors import KNeighborsClassifier\n",
    "from sklearn.linear_model import LogisticRegression\n",
    "from sklearn.model_selection import train_test_split, KFold\n",
    "from sklearn.metrics import precision_score, recall_score, precision_recall_curve,f1_score, fbeta_score\n",
    "from sklearn.preprocessing import StandardScaler\n",
    "\n",
    "from sklearn.linear_model import LinearRegression, Lasso, LassoCV, SGDClassifier\n",
    "from sklearn.metrics import confusion_matrix\n",
    "\n",
    "from sklearn.model_selection import train_test_split, cross_val_score\n",
    "from sklearn.metrics import accuracy_score, confusion_matrix\n",
    "from sklearn.naive_bayes import BernoulliNB, MultinomialNB, GaussianNB\n",
    "from sklearn.svm import LinearSVC, SVC\n",
    "from xgboost import XGBClassifier\n",
    "from collections import Counter\n",
    "from sklearn.tree import DecisionTreeClassifier\n",
    "from sklearn.ensemble import RandomForestClassifier\n",
    "from sklearn.metrics import roc_auc_score, roc_curve\n",
    "\n",
    "import gensim\n",
    "from gensim.utils import simple_preprocess\n",
    "from gensim.parsing.preprocessing import STOPWORDS\n",
    "from nltk.stem import WordNetLemmatizer, SnowballStemmer\n",
    "from nltk.stem.porter import *\n",
    "import numpy as np\n",
    "import nltk\n",
    "\n",
    "import pyLDAvis.gensim\n",
    "import json\n",
    "\n",
    "from gensim.models.coherencemodel import CoherenceModel\n",
    "from gensim.models.ldamodel import LdaModel\n",
    "from gensim.corpora.dictionary import Dictionary\n",
    "from numpy import array"
   ]
  },
  {
   "cell_type": "code",
   "execution_count": 99,
   "metadata": {},
   "outputs": [],
   "source": [
    "pickle_in = open(\"character_scripts\",\"rb\")\n",
    "character_scripts = pickle.load(pickle_in)\n",
    "pickle_in = open(\"merged\",\"rb\")\n",
    "merged = pickle.load(pickle_in)"
   ]
  },
  {
   "cell_type": "code",
   "execution_count": 100,
   "metadata": {},
   "outputs": [
    {
     "data": {
      "text/html": [
       "<div>\n",
       "<style scoped>\n",
       "    .dataframe tbody tr th:only-of-type {\n",
       "        vertical-align: middle;\n",
       "    }\n",
       "\n",
       "    .dataframe tbody tr th {\n",
       "        vertical-align: top;\n",
       "    }\n",
       "\n",
       "    .dataframe thead th {\n",
       "        text-align: right;\n",
       "    }\n",
       "</style>\n",
       "<table border=\"1\" class=\"dataframe\">\n",
       "  <thead>\n",
       "    <tr style=\"text-align: right;\">\n",
       "      <th></th>\n",
       "      <th>Name</th>\n",
       "      <th>Counts</th>\n",
       "    </tr>\n",
       "  </thead>\n",
       "  <tbody>\n",
       "    <tr>\n",
       "      <th>0</th>\n",
       "      <td>Fry</td>\n",
       "      <td>3926</td>\n",
       "    </tr>\n",
       "    <tr>\n",
       "      <th>11</th>\n",
       "      <td>Bender</td>\n",
       "      <td>3670</td>\n",
       "    </tr>\n",
       "    <tr>\n",
       "      <th>8</th>\n",
       "      <td>Leela</td>\n",
       "      <td>3116</td>\n",
       "    </tr>\n",
       "    <tr>\n",
       "      <th>20</th>\n",
       "      <td>Farnsworth</td>\n",
       "      <td>1519</td>\n",
       "    </tr>\n",
       "    <tr>\n",
       "      <th>27</th>\n",
       "      <td>Zoidberg</td>\n",
       "      <td>975</td>\n",
       "    </tr>\n",
       "    <tr>\n",
       "      <th>28</th>\n",
       "      <td>Amy</td>\n",
       "      <td>910</td>\n",
       "    </tr>\n",
       "    <tr>\n",
       "      <th>26</th>\n",
       "      <td>Hermes</td>\n",
       "      <td>843</td>\n",
       "    </tr>\n",
       "    <tr>\n",
       "      <th>63</th>\n",
       "      <td>Zapp</td>\n",
       "      <td>500</td>\n",
       "    </tr>\n",
       "    <tr>\n",
       "      <th>887</th>\n",
       "      <td>Professor Farnsworth</td>\n",
       "      <td>284</td>\n",
       "    </tr>\n",
       "    <tr>\n",
       "      <th>64</th>\n",
       "      <td>Kif</td>\n",
       "      <td>253</td>\n",
       "    </tr>\n",
       "    <tr>\n",
       "      <th>99</th>\n",
       "      <td>Mom</td>\n",
       "      <td>185</td>\n",
       "    </tr>\n",
       "    <tr>\n",
       "      <th>44</th>\n",
       "      <td>Calculon</td>\n",
       "      <td>166</td>\n",
       "    </tr>\n",
       "    <tr>\n",
       "      <th>17</th>\n",
       "      <td>Nixon</td>\n",
       "      <td>160</td>\n",
       "    </tr>\n",
       "    <tr>\n",
       "      <th>294</th>\n",
       "      <td>Cubert</td>\n",
       "      <td>145</td>\n",
       "    </tr>\n",
       "    <tr>\n",
       "      <th>168</th>\n",
       "      <td>Lrrr</td>\n",
       "      <td>145</td>\n",
       "    </tr>\n",
       "  </tbody>\n",
       "</table>\n",
       "</div>"
      ],
      "text/plain": [
       "                     Name  Counts\n",
       "0                     Fry    3926\n",
       "11                 Bender    3670\n",
       "8                   Leela    3116\n",
       "20             Farnsworth    1519\n",
       "27               Zoidberg     975\n",
       "28                    Amy     910\n",
       "26                 Hermes     843\n",
       "63                   Zapp     500\n",
       "887  Professor Farnsworth     284\n",
       "64                    Kif     253\n",
       "99                    Mom     185\n",
       "44               Calculon     166\n",
       "17                  Nixon     160\n",
       "294                Cubert     145\n",
       "168                  Lrrr     145"
      ]
     },
     "execution_count": 100,
     "metadata": {},
     "output_type": "execute_result"
    }
   ],
   "source": [
    "#Script Line Counts\n",
    "counts = [[key,len(merged[key])] for key in merged]\n",
    "countspd = pd.DataFrame(counts, columns=[\"Name\",\"Counts\"])\n",
    "countspd.sort_values(by='Counts', ascending=False).head(15)"
   ]
  },
  {
   "cell_type": "code",
   "execution_count": 4,
   "metadata": {},
   "outputs": [
    {
     "name": "stderr",
     "output_type": "stream",
     "text": [
      "/Users/isaackim/anaconda3/lib/python3.7/site-packages/thinc/neural/train.py:7: DeprecationWarning: Using or importing the ABCs from 'collections' instead of from 'collections.abc' is deprecated, and in 3.8 it will stop working\n",
      "  from .optimizers import Adam, linear_decay\n",
      "/Users/isaackim/anaconda3/lib/python3.7/site-packages/thinc/check.py:4: DeprecationWarning: Using or importing the ABCs from 'collections' instead of from 'collections.abc' is deprecated, and in 3.8 it will stop working\n",
      "  from collections import Sequence, Sized, Iterable, Callable\n"
     ]
    }
   ],
   "source": [
    "import spacy\n",
    "nlp = spacy.load(\"en_core_web_sm\", disable=['parser','ner'])"
   ]
  },
  {
   "cell_type": "code",
   "execution_count": 5,
   "metadata": {},
   "outputs": [],
   "source": [
    "#My personal preprocessing: eliminate punctuation, remove lines under 3 words long, spacy lemmatization\n",
    "def remove_punctuation(text):\n",
    "    return \"\".join([ch.lower() for ch in text if ch not in string.punctuation])\n",
    "\n",
    "def spacy_lines(lines):\n",
    "    docs = [nlp(sentence) for sentence in lines]\n",
    "    cleaned = [\" \".join([token.lemma_ for token in sentence]) for sentence in docs]\n",
    "    preprocess = [remove_punctuation(content.strip('\\n')).strip() for content in cleaned]\n",
    "    preprocess_words = [line.split() for line in preprocess]\n",
    "#     sentences = [line for line in preprocess_words if len(line) > 4]\n",
    "    str_sentences = [\" \".join([token for token in sentence]) for sentence in preprocess_words]\n",
    "    return str_sentences\n",
    "\n",
    "def spacy_preprocess(dictionary):\n",
    "    return {key:spacy_lines(value) for (key,value) in dictionary.items()}"
   ]
  },
  {
   "cell_type": "code",
   "execution_count": 6,
   "metadata": {},
   "outputs": [],
   "source": [
    "spacy_dict = spacy_preprocess(character_scripts)"
   ]
  },
  {
   "cell_type": "code",
   "execution_count": 7,
   "metadata": {},
   "outputs": [],
   "source": [
    "# Creating output column for my classification\n",
    "Characters = ['Fry','Bender','Leela','Farnsworth','Zoidberg','Amy','Hermes','Zapp','Kif']\n",
    "lengths = [len(spacy_dict[char]) for char in Characters]\n",
    "positions = list(np.cumsum(lengths))\n",
    "identifiers = [y for x in [[i]*lengths[i] for i in range(len(Characters))] for y in x]\n",
    "names = [y for x in [[Characters[i]]*lengths[i] for i in range(len(Characters))] for y in x]\n",
    "char_dict = dict(zip(Characters,range(10)))\n",
    "spacy_lines = spacy_dict['Fry'] + spacy_dict['Bender'] + spacy_dict['Leela'] + spacy_dict['Farnsworth'] + spacy_dict['Zoidberg'] + spacy_dict['Amy'] + spacy_dict['Hermes'] + spacy_dict['Zapp'] + spacy_dict['Kif']  "
   ]
  },
  {
   "cell_type": "code",
   "execution_count": 8,
   "metadata": {},
   "outputs": [],
   "source": [
    "with open(\"spacy_lines\",\"wb\") as pickle_out:\n",
    "    pickle.dump(spacy_lines, pickle_out)"
   ]
  },
  {
   "cell_type": "code",
   "execution_count": 9,
   "metadata": {},
   "outputs": [],
   "source": [
    "df = pd.DataFrame([spacy_lines, names, identifiers]).transpose()\n",
    "df = df.rename(columns = {0:'line',1:'name',2:'char_id'})\n",
    "name_to_id = dict(df[['name','char_id']].drop_duplicates().sort_values('char_id').values)"
   ]
  },
  {
   "cell_type": "code",
   "execution_count": 10,
   "metadata": {},
   "outputs": [],
   "source": [
    "with open(\"df\",\"wb\") as pickle_out:\n",
    "    pickle.dump(df, pickle_out)"
   ]
  },
  {
   "cell_type": "code",
   "execution_count": 11,
   "metadata": {},
   "outputs": [],
   "source": [
    "pickle_in = open(\"df\",\"rb\")\n",
    "df = pickle.load(pickle_in)\n",
    "pickle_in = open(\"spacy_lines\",\"rb\")\n",
    "spacy_lines = pickle.load(pickle_in)"
   ]
  },
  {
   "cell_type": "markdown",
   "metadata": {},
   "source": [
    "## Analysis + Classification with TfidfVectorizer"
   ]
  },
  {
   "cell_type": "code",
   "execution_count": 12,
   "metadata": {},
   "outputs": [],
   "source": [
    "#Creating custom stop word lists to try\n",
    "with open('stoplist.txt','r') as f:\n",
    "    contents = f.readlines()\n",
    "stop = [remove_punctuation(content.strip('\\n')) for content in contents]\n",
    "my_stop_words = text.ENGLISH_STOP_WORDS.union(['fry','leela','bender','zoidberg','professor','amy','pron','s','oh'])\n",
    "my_stop_words2 = text.ENGLISH_STOP_WORDS.union(['pron','s','oh'])"
   ]
  },
  {
   "cell_type": "code",
   "execution_count": 13,
   "metadata": {},
   "outputs": [],
   "source": [
    "# Add additional stop words that commonly occur but don't add much value\n",
    "stop_list = stop + ['fry','leela','bender','zoidberg','professor','amy','whoa','yeah','ha','ho','sit','oh','s',\n",
    "                    'love','great','pron','will','hey']"
   ]
  },
  {
   "cell_type": "markdown",
   "metadata": {},
   "source": [
    "### Using chi2 feature selection"
   ]
  },
  {
   "cell_type": "code",
   "execution_count": 15,
   "metadata": {
    "scrolled": true
   },
   "outputs": [
    {
     "name": "stdout",
     "output_type": "stream",
     "text": [
      "# 'Amy':\n",
      "  . Most correlated unigrams:\n",
      ". buh\n",
      ". kif\n",
      "  . Most correlated bigrams:\n",
      ". fun feel\n",
      ". uh mom\n",
      "# 'Bender':\n",
      "  . Most correlated unigrams:\n",
      ". elzar\n",
      ". ass\n",
      "  . Most correlated bigrams:\n",
      ". shiny metal\n",
      ". metal ass\n",
      "# 'Farnsworth':\n",
      "  . Most correlated unigrams:\n",
      ". news\n",
      ". wha\n",
      "  . Most correlated bigrams:\n",
      ". eh wha\n",
      ". good news\n",
      "# 'Fry':\n",
      "  . Most correlated unigrams:\n",
      ". seymour\n",
      ". future\n",
      "  . Most correlated bigrams:\n",
      ". wanna hear\n",
      ". wait minute\n",
      "# 'Hermes':\n",
      "  . Most correlated unigrams:\n",
      ". labarbara\n",
      ". mon\n",
      "  . Most correlated bigrams:\n",
      ". bird dog\n",
      ". mon hell\n",
      "# 'Kif':\n",
      "  . Most correlated unigrams:\n",
      ". rustler\n",
      ". sir\n",
      "  . Most correlated bigrams:\n",
      ". um sir\n",
      ". um um\n",
      "# 'Leela':\n",
      "  . Most correlated unigrams:\n",
      ". surface\n",
      ". yah\n",
      "  . Most correlated bigrams:\n",
      ". save animal\n",
      ". dark matter\n",
      "# 'Zapp':\n",
      "  . Most correlated unigrams:\n",
      ". neutral\n",
      ". kif\n",
      "  . Most correlated bigrams:\n",
      ". kif woman\n",
      ". sham pag\n",
      "# 'Zoidberg':\n",
      "  . Most correlated unigrams:\n",
      ". hooray\n",
      ". claw\n",
      "  . Most correlated bigrams:\n",
      ". hermes friend\n",
      ". woop woop\n"
     ]
    }
   ],
   "source": [
    "#sklearn chi2 feature selection\n",
    "from sklearn.feature_selection import chi2\n",
    "import numpy as np\n",
    "N = 2\n",
    "for name, char_id in sorted(name_to_id.items()):\n",
    "  features_chi2 = chi2(features, labels == char_id)\n",
    "  indices = np.argsort(features_chi2[0])\n",
    "  feature_names = np.array(tfidf.get_feature_names())[indices]\n",
    "  unigrams = [v for v in feature_names if len(v.split(' ')) == 1]\n",
    "  bigrams = [v for v in feature_names if len(v.split(' ')) == 2]\n",
    "  print(\"# '{}':\".format(name))\n",
    "  print(\"  . Most correlated unigrams:\\n. {}\".format('\\n. '.join(unigrams[-N:])))\n",
    "  print(\"  . Most correlated bigrams:\\n. {}\".format('\\n. '.join(bigrams[-N:])))"
   ]
  },
  {
   "cell_type": "code",
   "execution_count": 103,
   "metadata": {},
   "outputs": [],
   "source": [
    "from sklearn.model_selection import train_test_split\n",
    "from sklearn.feature_extraction.text import CountVectorizer\n",
    "from sklearn.feature_extraction.text import TfidfTransformer\n",
    "from sklearn.naive_bayes import MultinomialNB\n",
    "X_train, X_test, y_train, y_test = train_test_split(df['line'], df['name'], random_state = 0)\n",
    "count_vect = CountVectorizer()\n",
    "X_train_counts = count_vect.fit_transform(X_train)\n",
    "tfidf_transformer = TfidfTransformer()\n",
    "X_train_tfidf = tfidf_transformer.fit_transform(X_train_counts)"
   ]
  },
  {
   "cell_type": "code",
   "execution_count": 104,
   "metadata": {},
   "outputs": [],
   "source": [
    "clf = MultinomialNB().fit(X_train_tfidf, y_train)\n",
    "X_test_counts = count_vect.transform(X_test)\n",
    "X_test_tfidf = tfidf_transformer.transform(X_test_counts)"
   ]
  },
  {
   "cell_type": "code",
   "execution_count": 49,
   "metadata": {},
   "outputs": [
    {
     "data": {
      "text/plain": [
       "0.5234338747099768"
      ]
     },
     "execution_count": 49,
     "metadata": {},
     "output_type": "execute_result"
    }
   ],
   "source": [
    "clf.score(X_train_tfidf, y_train)"
   ]
  },
  {
   "cell_type": "code",
   "execution_count": 50,
   "metadata": {},
   "outputs": [
    {
     "data": {
      "text/plain": [
       "0.3101529902642559"
      ]
     },
     "execution_count": 50,
     "metadata": {},
     "output_type": "execute_result"
    }
   ],
   "source": [
    "clf.score(X_test_tfidf, y_test)"
   ]
  },
  {
   "cell_type": "code",
   "execution_count": 40,
   "metadata": {},
   "outputs": [
    {
     "name": "stdout",
     "output_type": "stream",
     "text": [
      "['Fry']\n"
     ]
    }
   ],
   "source": [
    "print(clf.predict(count_vect.transform([X_test.iloc[423]])))"
   ]
  },
  {
   "cell_type": "code",
   "execution_count": 47,
   "metadata": {},
   "outputs": [],
   "source": [
    "lr = LogisticRegression(random_state=0, solver='lbfgs',multi_class='auto',max_iter=1000)\n",
    "lr.fit(X_train_tfidf,y_train);"
   ]
  },
  {
   "cell_type": "code",
   "execution_count": 42,
   "metadata": {},
   "outputs": [
    {
     "data": {
      "text/plain": [
       "0.7883990719257541"
      ]
     },
     "execution_count": 42,
     "metadata": {},
     "output_type": "execute_result"
    }
   ],
   "source": [
    "lr.score(X_train_tfidf,y_train)"
   ]
  },
  {
   "cell_type": "code",
   "execution_count": 43,
   "metadata": {},
   "outputs": [
    {
     "data": {
      "text/plain": [
       "0.4659248956884562"
      ]
     },
     "execution_count": 43,
     "metadata": {},
     "output_type": "execute_result"
    }
   ],
   "source": [
    "lr.score(X_test_tfidf,y_test)"
   ]
  },
  {
   "cell_type": "code",
   "execution_count": 44,
   "metadata": {},
   "outputs": [
    {
     "data": {
      "text/plain": [
       "'Leela'"
      ]
     },
     "execution_count": 44,
     "metadata": {},
     "output_type": "execute_result"
    }
   ],
   "source": [
    "y_test.iloc[100]"
   ]
  },
  {
   "cell_type": "code",
   "execution_count": 45,
   "metadata": {},
   "outputs": [
    {
     "name": "stdout",
     "output_type": "stream",
     "text": [
      "['Leela']\n"
     ]
    }
   ],
   "source": [
    "print(lr.predict(count_vect.transform([X_test.iloc[423]])))"
   ]
  },
  {
   "cell_type": "code",
   "execution_count": 33,
   "metadata": {},
   "outputs": [],
   "source": [
    "MNB = MultinomialNB()"
   ]
  },
  {
   "cell_type": "code",
   "execution_count": 108,
   "metadata": {},
   "outputs": [],
   "source": [
    "labels = labels.astype(int)"
   ]
  },
  {
   "cell_type": "code",
   "execution_count": 35,
   "metadata": {},
   "outputs": [
    {
     "data": {
      "text/plain": [
       "array([0.34315425, 0.35590278, 0.32521739, 0.3641115 , 0.33391608])"
      ]
     },
     "execution_count": 35,
     "metadata": {},
     "output_type": "execute_result"
    }
   ],
   "source": [
    "cross_val_score(MNB, features, labels, cv=5, scoring = 'accuracy')"
   ]
  },
  {
   "cell_type": "code",
   "execution_count": 109,
   "metadata": {
    "scrolled": true
   },
   "outputs": [],
   "source": [
    "from sklearn.linear_model import LogisticRegression\n",
    "from sklearn.ensemble import RandomForestClassifier\n",
    "from sklearn.svm import LinearSVC\n",
    "from sklearn.model_selection import cross_val_score\n",
    "models = [\n",
    "    RandomForestClassifier(n_estimators=200, max_depth=3, random_state=0),\n",
    "    LinearSVC(),\n",
    "    MultinomialNB(),\n",
    "    LogisticRegression(solver = 'lbfgs', multi_class = 'auto'),\n",
    "]\n",
    "CV = 5\n",
    "cv_df = pd.DataFrame(index=range(CV * len(models)))\n",
    "entries = []\n",
    "for model in models:\n",
    "    model_name = model.__class__.__name__\n",
    "    accuracies = cross_val_score(model, features, labels, scoring='accuracy', cv=CV)\n",
    "    for fold_idx, accuracy in enumerate(accuracies):\n",
    "        entries.append((model_name, fold_idx, accuracy))\n",
    "cv_df = pd.DataFrame(entries, columns=['model_name', 'fold_idx', 'accuracy'])"
   ]
  },
  {
   "cell_type": "code",
   "execution_count": 110,
   "metadata": {},
   "outputs": [
    {
     "data": {
      "image/png": "[encoded data removed]",
      "text/plain": [
       "<Figure size 720x432 with 1 Axes>"
      ]
     },
     "metadata": {
      "image/png": {
       "height": 392,
       "width": 621
      },
      "needs_background": "light"
     },
     "output_type": "display_data"
    }
   ],
   "source": [
    "import seaborn as sns\n",
    "plt.figure(figsize = (10,6))\n",
    "plt.title(\"Model Performance Box Plots\", fontsize = 20)\n",
    "sns.boxplot(x='model_name', y='accuracy', data=cv_df)\n",
    "sns.stripplot(x='model_name', y='accuracy', data=cv_df, \n",
    "              size=8, edgecolor=\"gray\", linewidth=2);\n"
   ]
  },
  {
   "cell_type": "code",
   "execution_count": 38,
   "metadata": {},
   "outputs": [
    {
     "data": {
      "text/plain": [
       "model_name\n",
       "LinearSVC                 0.393132\n",
       "LogisticRegression        0.368810\n",
       "MultinomialNB             0.344460\n",
       "RandomForestClassifier    0.252614\n",
       "Name: accuracy, dtype: float64"
      ]
     },
     "execution_count": 38,
     "metadata": {},
     "output_type": "execute_result"
    }
   ],
   "source": [
    "cv_df.groupby('model_name').accuracy.mean()"
   ]
  },
  {
   "cell_type": "markdown",
   "metadata": {},
   "source": [
    "## LSA"
   ]
  },
  {
   "cell_type": "code",
   "execution_count": 39,
   "metadata": {},
   "outputs": [
    {
     "data": {
      "text/plain": [
       "(2874, 6791)"
      ]
     },
     "execution_count": 39,
     "metadata": {},
     "output_type": "execute_result"
    }
   ],
   "source": [
    "vectorizer = CountVectorizer(stop_words=stop_list, preprocessor = remove_punctuation, \n",
    "                             max_df = .99, min_df=2, token_pattern=r'\\b[a-zA-Z]+\\b', ngram_range = (1,2))\n",
    "doc_word = vectorizer.fit_transform(spacy_lines)\n",
    "doc_word.shape"
   ]
  },
  {
   "cell_type": "code",
   "execution_count": 40,
   "metadata": {},
   "outputs": [],
   "source": [
    "data = pd.DataFrame(doc_word.toarray(), columns=vectorizer.get_feature_names())"
   ]
  },
  {
   "cell_type": "code",
   "execution_count": 41,
   "metadata": {},
   "outputs": [
    {
     "data": {
      "text/plain": [
       "array([0.00687139, 0.00869479, 0.00840116, 0.0078311 , 0.00700559,\n",
       "       0.0062116 , 0.00600497, 0.00579786])"
      ]
     },
     "execution_count": 41,
     "metadata": {},
     "output_type": "execute_result"
    }
   ],
   "source": [
    "lsa = TruncatedSVD(8)\n",
    "doc_topic = lsa.fit_transform(doc_word)\n",
    "lsa.explained_variance_ratio_"
   ]
  },
  {
   "cell_type": "code",
   "execution_count": 42,
   "metadata": {},
   "outputs": [
    {
     "data": {
      "text/plain": [
       "Counter({0: 2141, 5: 88, 7: 110, 3: 159, 1: 137, 2: 157, 6: 73, 4: 9})"
      ]
     },
     "execution_count": 42,
     "metadata": {},
     "output_type": "execute_result"
    }
   ],
   "source": [
    "Counter(np.argmax(doc_topic, axis=1))"
   ]
  },
  {
   "cell_type": "code",
   "execution_count": 62,
   "metadata": {},
   "outputs": [],
   "source": [
    "def display_topics(model, feature_names, no_top_words, topic_names=None):\n",
    "    for ix, topic in enumerate(model.components_):\n",
    "        if not topic_names or not topic_names[ix]:\n",
    "            print(\"\\nTopic \", ix)\n",
    "        else:\n",
    "            print(\"\\nTopic: '\",topic_names[ix],\"'\")\n",
    "        print(\", \".join([feature_names[i]\n",
    "                        for i in topic.argsort()[:-no_top_words - 1:-1]]))"
   ]
  },
  {
   "cell_type": "code",
   "execution_count": 44,
   "metadata": {
    "scrolled": true
   },
   "outputs": [
    {
     "name": "stdout",
     "output_type": "stream",
     "text": [
      "\n",
      "Topic  0\n",
      "good, time, uh, thing, robot, wait, man, life, friend, guy\n",
      "\n",
      "Topic  1\n",
      "uh, time, man, coffee, huh, uh huh, uh uh, kif, alright, guy\n",
      "\n",
      "Topic  2\n",
      "time, year, machine, feel, time machine, life, forward, thing, travel, skip\n",
      "\n",
      "Topic  3\n",
      "robot, human, body, guy, friend, life, kill, god, robot robot, die\n",
      "\n",
      "Topic  4\n",
      "uh, time, good, robot, coffee, news, good news, uh uh, machine, friend\n",
      "\n",
      "Topic  5\n",
      "ow, wait, ow ow, ooh, god, guy, bad, second, head, wait second\n",
      "\n",
      "Topic  6\n",
      "wait, man, god, kill, kif, alright, second, word, planet, captain\n",
      "\n",
      "Topic  7\n",
      "wait, life, coffee, second, find, thing, wait second, live, work, year\n"
     ]
    }
   ],
   "source": [
    "display_topics(lsa, vectorizer.get_feature_names(), 10)"
   ]
  },
  {
   "cell_type": "code",
   "execution_count": 51,
   "metadata": {},
   "outputs": [],
   "source": [
    "pickle_in = open(\"character_scripts\",\"rb\")\n",
    "character_scripts = pickle.load(pickle_in)"
   ]
  },
  {
   "cell_type": "code",
   "execution_count": 52,
   "metadata": {},
   "outputs": [],
   "source": [
    "def scale(X_train, X_test):\n",
    "    std = StandardScaler()\n",
    "    std.fit(X_train.values)\n",
    "    X_tr = std.transform(X_train.values)\n",
    "    X_te = std.transform(X_test.values)\n",
    "    return X_tr, X_te"
   ]
  },
  {
   "cell_type": "code",
   "execution_count": 53,
   "metadata": {},
   "outputs": [
    {
     "data": {
      "text/plain": [
       "(2874, 9602)"
      ]
     },
     "execution_count": 53,
     "metadata": {},
     "output_type": "execute_result"
    }
   ],
   "source": [
    "vectorizer2 = TfidfVectorizer(stop_words=my_stop_words2, preprocessor = remove_punctuation, \n",
    "                             max_df = 100, min_df=2, token_pattern=r'\\b[a-zA-Z]+\\b', ngram_range = (1,3))\n",
    "doc_word2 = vectorizer2.fit_transform(spacy_lines)\n",
    "doc_word2.shape"
   ]
  },
  {
   "cell_type": "markdown",
   "metadata": {},
   "source": [
    "## NMF"
   ]
  },
  {
   "cell_type": "code",
   "execution_count": 54,
   "metadata": {},
   "outputs": [],
   "source": [
    "nmf_model = NMF(20)\n",
    "doc_topic3 = nmf_model.fit_transform(doc_word2)"
   ]
  },
  {
   "cell_type": "code",
   "execution_count": 55,
   "metadata": {},
   "outputs": [
    {
     "data": {
      "text/plain": [
       "Counter({14: 161,\n",
       "         13: 132,\n",
       "         0: 579,\n",
       "         2: 68,\n",
       "         19: 311,\n",
       "         16: 116,\n",
       "         10: 48,\n",
       "         8: 104,\n",
       "         6: 93,\n",
       "         17: 269,\n",
       "         1: 69,\n",
       "         4: 81,\n",
       "         12: 191,\n",
       "         15: 138,\n",
       "         18: 44,\n",
       "         9: 60,\n",
       "         11: 102,\n",
       "         5: 108,\n",
       "         7: 94,\n",
       "         3: 106})"
      ]
     },
     "execution_count": 55,
     "metadata": {},
     "output_type": "execute_result"
    }
   ],
   "source": [
    "Counter(np.argmax(doc_topic3, axis=1))"
   ]
  },
  {
   "cell_type": "code",
   "execution_count": 56,
   "metadata": {},
   "outputs": [],
   "source": [
    "nmf_df = pd.DataFrame(doc_topic3)\n",
    "id_df = pd.DataFrame(identifiers)"
   ]
  },
  {
   "cell_type": "code",
   "execution_count": 57,
   "metadata": {},
   "outputs": [],
   "source": [
    "X_train, X_test, y_train, y_test = train_test_split(nmf_df, id_df[0], test_size=0.3, random_state=41)\n",
    "X_tr, X_te = scale(X_train, X_test)"
   ]
  },
  {
   "cell_type": "code",
   "execution_count": 58,
   "metadata": {
    "scrolled": true
   },
   "outputs": [
    {
     "name": "stdout",
     "output_type": "stream",
     "text": [
      "The score for MNB is\n",
      "Training:  33.17%\n",
      "Test set:  31.98%\n",
      "The score for kNN is\n",
      "Training:  49.93%\n",
      "Test set:  30.24%\n",
      "The score for Decision Tree is\n",
      "Training:  31.48%\n",
      "Test set:  27.93%\n",
      "The score for LinearSVC is\n",
      "Training:  34.61%\n",
      "Test set:  31.98%\n"
     ]
    },
    {
     "name": "stderr",
     "output_type": "stream",
     "text": [
      "/Users/isaackim/anaconda3/lib/python3.7/site-packages/sklearn/svm/base.py:929: ConvergenceWarning: Liblinear failed to converge, increase the number of iterations.\n",
      "  \"the number of iterations.\", ConvergenceWarning)\n"
     ]
    }
   ],
   "source": [
    "mnb = MultinomialNB()\n",
    "mnb.fit(X_train,y_train)\n",
    "print(\"The score for MNB is\")\n",
    "print(\"Training: {:6.2f}%\".format(100*mnb.score(X_tr, y_train)))\n",
    "print(\"Test set: {:6.2f}%\".format(100*mnb.score(X_te, y_test)))\n",
    "\n",
    "knn = KNeighborsClassifier(n_neighbors=5)\n",
    "knn.fit(X_tr, y_train)\n",
    "print(\"The score for kNN is\")\n",
    "print(\"Training: {:6.2f}%\".format(100*knn.score(X_tr, y_train)))\n",
    "print(\"Test set: {:6.2f}%\".format(100*knn.score(X_te, y_test)))\n",
    "\n",
    "dtc = DecisionTreeClassifier(max_depth=3)\n",
    "dtc.fit(X_train, y_train)\n",
    "print(\"The score for Decision Tree is\")\n",
    "print(\"Training: {:6.2f}%\".format(100*dtc.score(X_train, y_train)))\n",
    "print(\"Test set: {:6.2f}%\".format(100*dtc.score(X_test, y_test)))\n",
    "\n",
    "svc = LinearSVC(max_iter = 10000)\n",
    "svc.fit(X_tr,y_train)\n",
    "print(\"The score for LinearSVC is\")\n",
    "print(\"Training: {:6.2f}%\".format(100*svc.score(X_tr, y_train)))\n",
    "print(\"Test set: {:6.2f}%\".format(100*svc.score(X_te, y_test)))"
   ]
  },
  {
   "cell_type": "code",
   "execution_count": 80,
   "metadata": {},
   "outputs": [
    {
     "name": "stdout",
     "output_type": "stream",
     "text": [
      "The score for Random Forest Classifier is\n",
      "Training:  34.96%\n",
      "Test set:  30.36%\n"
     ]
    }
   ],
   "source": [
    "rfc = RandomForestClassifier(n_estimators=200, max_depth=3, random_state=0)\n",
    "rfc.fit(X_tr,y_train)\n",
    "print(\"The score for Random Forest Classifier is\")\n",
    "print(\"Training: {:6.2f}%\".format(100*rfc.score(X_tr, y_train)))\n",
    "print(\"Test set: {:6.2f}%\".format(100*rfc.score(X_te, y_test)))"
   ]
  },
  {
   "cell_type": "code",
   "execution_count": 81,
   "metadata": {},
   "outputs": [
    {
     "name": "stdout",
     "output_type": "stream",
     "text": [
      "The score for XGBoost is\n",
      "Training:  59.47%\n",
      "Test set:  35.23%\n"
     ]
    }
   ],
   "source": [
    "xgb = XGBClassifier()\n",
    "xgb.fit(X_tr, y_train)\n",
    "print(\"The score for XGBoost is\")\n",
    "print(\"Training: {:6.2f}%\".format(100*xgb.score(X_tr, y_train)))\n",
    "print(\"Test set: {:6.2f}%\".format(100*xgb.score(X_te, y_test)))"
   ]
  },
  {
   "cell_type": "code",
   "execution_count": 60,
   "metadata": {},
   "outputs": [
    {
     "name": "stdout",
     "output_type": "stream",
     "text": [
      "The score for Stochastic Gradient Descent with Support Vector Machines is\n",
      "Training:  28.44%\n",
      "Test set:  27.58%\n"
     ]
    }
   ],
   "source": [
    "sgd = SGDClassifier()\n",
    "sgd.fit(X_tr, y_train)\n",
    "print(\"The score for Stochastic Gradient Descent with Support Vector Machines is\")\n",
    "print(\"Training: {:6.2f}%\".format(100*sgd.score(X_tr, y_train)))\n",
    "print(\"Test set: {:6.2f}%\".format(100*sgd.score(X_te, y_test)))"
   ]
  },
  {
   "cell_type": "code",
   "execution_count": 63,
   "metadata": {
    "scrolled": true
   },
   "outputs": [
    {
     "name": "stdout",
     "output_type": "stream",
     "text": [
      "\n",
      "Topic  0\n",
      "earth, wow, world, tv, okay, minute, kid, cool, lot, miss\n",
      "\n",
      "Topic  1\n",
      "sir, sir sir, um, earth, yes sir, actually, aye, um sir, actually sir, sir shall\n",
      "\n",
      "Topic  2\n",
      "whoa, whoa whoa, whoa whoa whoa, look like, wash, whoa slow, offensive, whoa whoa slow, slow, object\n",
      "\n",
      "Topic  3\n",
      "kif, woman, snu, betsy, ready, party, kroker, poor, forever, wave\n",
      "\n",
      "Topic  4\n",
      "huh, uh huh, slurm, huh hey, blah, huh uh, uh huh uh, calculon, blah blah, huh uh huh\n",
      "\n",
      "Topic  5\n",
      "body, switch, switch body, mind, bender body, use body, robot body, nixon, fabulous, original\n",
      "\n",
      "Topic  6\n",
      "human, kill human, point, light, know human, calculon, eye, beep, blood, race\n",
      "\n",
      "Topic  7\n",
      "ass, metal, shiny, shiny metal, bite, metal ass, shiny metal ass, bite shiny metal, bite shiny, cmon\n",
      "\n",
      "Topic  8\n",
      "captain, zapp, brannigan, zapp brannigan, animal, new captain, mutiny, space, leela captain, know zapp\n",
      "\n",
      "Topic  9\n",
      "shut, gill, slurm, shut shut, yeah shut, bunk, love shut, fry shut, want leela, english\n",
      "\n",
      "Topic  10\n",
      "bend, bend bend, angle, bender bend, girder, cancel, jerk, look like, program, penny\n",
      "\n",
      "Topic  11\n",
      "mr, peppy, mr peppy, goodbye, bone, mczongo, o, okay, attack, mr president\n",
      "\n",
      "Topic  12\n",
      "hermes, nice, dr, dr zoidberg, worry, head, wear, wife, brain, doctor\n",
      "\n",
      "Topic  13\n",
      "mom, dad, parent, mom dad, hi, mutant, boyfriend, wrong, uh mom, yah\n",
      "\n",
      "Topic  14\n",
      "boy, delivery, delivery boy, job, pizza, away, chip, pizza delivery, boy boy, hello\n",
      "\n",
      "Topic  15\n",
      "nibbler, pet, real, um, toilet, flush, aww, actually, cute, pet nibbler\n",
      "\n",
      "Topic  16\n",
      "santa, xmas, tree, santa claus, claus, bring, pine tree, pine, xmas tree, power\n",
      "\n",
      "Topic  17\n",
      "news, good news, planet express, express, deliver, wha, crew, remember, today, space\n",
      "\n",
      "Topic  18\n",
      "ow ow, ow ow ow, believe, yay, flexo, fall, low, sacred, fish, worth\n",
      "\n",
      "Topic  19\n",
      "place, clover, steal, baby, room, hell, yancy, catch, change, brother\n"
     ]
    }
   ],
   "source": [
    "display_topics(nmf_model, vectorizer2.get_feature_names(), 10)"
   ]
  },
  {
   "cell_type": "markdown",
   "metadata": {},
   "source": [
    "### LDA Attempt #1\n",
    "The much more rigorous attempt at LDA is on the other notebook"
   ]
  },
  {
   "cell_type": "code",
   "execution_count": 64,
   "metadata": {},
   "outputs": [],
   "source": [
    "pickle_in = open(\"all_lines\",\"rb\")\n",
    "all_lines = pickle.load(pickle_in)"
   ]
  },
  {
   "cell_type": "code",
   "execution_count": 65,
   "metadata": {},
   "outputs": [],
   "source": [
    "STOPWORDS2 = list(STOPWORDS) + ['bender','fry','leela','farnsworth','zoidberg','amy']\n",
    "STOPWORDS3 = frozenset(STOPWORDS2)"
   ]
  },
  {
   "cell_type": "code",
   "execution_count": 66,
   "metadata": {
    "scrolled": true
   },
   "outputs": [
    {
     "name": "stderr",
     "output_type": "stream",
     "text": [
      "[nltk_data] Downloading package wordnet to\n",
      "[nltk_data]     /Users/isaackim/nltk_data...\n",
      "[nltk_data]   Package wordnet is already up-to-date!\n"
     ]
    },
    {
     "data": {
      "text/plain": [
       "True"
      ]
     },
     "execution_count": 66,
     "metadata": {},
     "output_type": "execute_result"
    }
   ],
   "source": [
    "nltk.download('wordnet')"
   ]
  },
  {
   "cell_type": "code",
   "execution_count": 67,
   "metadata": {},
   "outputs": [],
   "source": [
    "def lemmatize_stemming(text):\n",
    "    stemmer = SnowballStemmer(\"english\")\n",
    "    return stemmer.stem(WordNetLemmatizer().lemmatize(text, pos='v'))\n",
    "def preprocess(text):\n",
    "    result = []\n",
    "    for token in gensim.utils.simple_preprocess(text):\n",
    "        if token not in STOPWORDS and len(token) > 3:\n",
    "            result.append(lemmatize_stemming(token))\n",
    "    return result"
   ]
  },
  {
   "cell_type": "code",
   "execution_count": 68,
   "metadata": {},
   "outputs": [
    {
     "name": "stdout",
     "output_type": "stream",
     "text": [
      "original document: \n",
      "['', '', 'Space.', 'It', 'seems', 'to', 'go', 'on', 'and', 'on', 'forever.', 'But', 'then', 'you', 'get', 'to', 'the', 'end', 'and', 'the', 'gorilla', 'starts', 'throwing', 'barrels', 'at', 'you.', 'And', \"that's\", 'how', 'you', 'play', 'the', 'game!', 'Michelle,', 'baby!', 'Where', 'you', 'going?', 'I', 'hate', 'my', 'life,', 'I', 'hate', 'my', 'life,', 'I', 'hate', 'my', 'life.', 'Hello?', 'Pizza', 'delivery', 'for,', 'uh', '...', '', \"Here's\", 'to', 'another', 'lousy', 'millennium.']\n",
      "\n",
      "\n",
      " tokenized and lemmatized document: \n",
      "['space', 'forev', 'gorilla', 'start', 'throw', 'barrel', 'play', 'game', 'michell', 'babi', 'go', 'hate', 'life', 'hate', 'life', 'hate', 'life', 'hello', 'pizza', 'deliveri', 'lousi', 'millennium']\n"
     ]
    }
   ],
   "source": [
    "doc_sample = all_lines[0]\n",
    "print('original document: ')\n",
    "words = []\n",
    "for word in doc_sample.split(' '):\n",
    "    words.append(word)\n",
    "print(words)\n",
    "print('\\n\\n tokenized and lemmatized document: ')\n",
    "print(preprocess(doc_sample))"
   ]
  },
  {
   "cell_type": "code",
   "execution_count": 69,
   "metadata": {},
   "outputs": [],
   "source": [
    "lines = pd.DataFrame(all_lines)"
   ]
  },
  {
   "cell_type": "code",
   "execution_count": 70,
   "metadata": {},
   "outputs": [],
   "source": [
    "processed_docs = lines[0].map(preprocess)"
   ]
  },
  {
   "cell_type": "code",
   "execution_count": 72,
   "metadata": {},
   "outputs": [],
   "source": [
    "#Bag of Words\n",
    "dictionary = gensim.corpora.Dictionary(processed_docs)"
   ]
  },
  {
   "cell_type": "code",
   "execution_count": 73,
   "metadata": {},
   "outputs": [],
   "source": [
    "dictionary.filter_extremes(no_below=2, no_above=0.5)"
   ]
  },
  {
   "cell_type": "code",
   "execution_count": 74,
   "metadata": {},
   "outputs": [],
   "source": [
    "bow_corpus = [dictionary.doc2bow(doc) for doc in processed_docs]"
   ]
  },
  {
   "cell_type": "code",
   "execution_count": 75,
   "metadata": {},
   "outputs": [],
   "source": [
    "lda_model = gensim.models.LdaMulticore(bow_corpus, num_topics=8, id2word=dictionary, passes=50, workers=3, chunksize=50)"
   ]
  },
  {
   "cell_type": "code",
   "execution_count": 76,
   "metadata": {},
   "outputs": [
    {
     "name": "stdout",
     "output_type": "stream",
     "text": [
      "\n",
      "Coherence Score:  0.333713382731334\n"
     ]
    }
   ],
   "source": [
    "# Compute Coherence Score using c_v\n",
    "coherence_model_lda = CoherenceModel(model=lda_model, texts=processed_docs, dictionary=dictionary, coherence='c_v')\n",
    "coherence_lda = coherence_model_lda.get_coherence()\n",
    "print('\\nCoherence Score: ', coherence_lda)"
   ]
  },
  {
   "cell_type": "code",
   "execution_count": 77,
   "metadata": {},
   "outputs": [],
   "source": [
    "def compute_coherence_values(dictionary, corpus, texts, limit, start=2, step=3):\n",
    "    \"\"\"\n",
    "    Compute c_v coherence for various number of topics\n",
    "\n",
    "    Parameters:\n",
    "    ----------\n",
    "    dictionary : Gensim dictionary\n",
    "    corpus : Gensim corpus\n",
    "    texts : List of input texts\n",
    "    limit : Max num of topics\n",
    "\n",
    "    Returns:\n",
    "    -------\n",
    "    model_list : List of LDA topic models\n",
    "    coherence_values : Coherence values corresponding to the LDA model with respective number of topics\n",
    "    \"\"\"\n",
    "    coherence_values = []\n",
    "    model_list = []\n",
    "    for num_topics in range(start, limit, step):\n",
    "        model=LdaModel(corpus=corpus, id2word=dictionary, num_topics=num_topics)\n",
    "        model_list.append(model)\n",
    "        coherencemodel = CoherenceModel(model=model, texts=texts, dictionary=dictionary, coherence='c_v')\n",
    "        coherence_values.append(coherencemodel.get_coherence())\n",
    "\n",
    "    return model_list, coherence_values"
   ]
  },
  {
   "cell_type": "code",
   "execution_count": 78,
   "metadata": {},
   "outputs": [],
   "source": [
    "model_list, coherence_values = compute_coherence_values(dictionary=dictionary, \n",
    "                                                        corpus=bow_corpus, texts=processed_docs, start=2, limit=40, step=6)"
   ]
  },
  {
   "cell_type": "markdown",
   "metadata": {},
   "source": [
    "The best coherence value occurs at 26 topics or so."
   ]
  },
  {
   "cell_type": "code",
   "execution_count": 79,
   "metadata": {},
   "outputs": [
    {
     "data": {
      "image/png": "[encoded data removed]",
      "text/plain": [
       "<Figure size 720x432 with 1 Axes>"
      ]
     },
     "metadata": {
      "image/png": {
       "height": 386,
       "width": 615
      },
      "needs_background": "light"
     },
     "output_type": "display_data"
    }
   ],
   "source": [
    "# Show graph\n",
    "import matplotlib.pyplot as plt\n",
    "plt.rcParams['figure.figsize'] = (10.0, 6)\n",
    "limit=40; start=2; step=6;\n",
    "x = range(start, limit, step)\n",
    "plt.plot(x, coherence_values)\n",
    "plt.title(\"Finding Optimal Number of Topics\")\n",
    "plt.xlabel(\"Num Topics\")\n",
    "plt.ylabel(\"Coherence score\")\n",
    "plt.legend((\"coherence_values\"), loc='best')\n",
    "plt.show()"
   ]
  },
  {
   "cell_type": "code",
   "execution_count": 80,
   "metadata": {},
   "outputs": [],
   "source": [
    "lda_model = gensim.models.LdaMulticore(bow_corpus, num_topics=26, id2word=dictionary, passes=100, workers=4, chunksize=100)"
   ]
  },
  {
   "cell_type": "code",
   "execution_count": 81,
   "metadata": {
    "scrolled": true
   },
   "outputs": [],
   "source": [
    "lda_corpus = [lda_model[line] for line in bow_corpus]"
   ]
  },
  {
   "cell_type": "code",
   "execution_count": 86,
   "metadata": {},
   "outputs": [],
   "source": [
    "train_vecs = []\n",
    "for i in range(len(lda_corpus)):\n",
    "    top_topics = lda_model.get_document_topics(lda_corpus[i], minimum_probability=0.0)\n",
    "    topic_vec = [top_topics[k][1] for k in range(len(top_topics))]\n",
    "    train_vecs.append(topic_vec)\n",
    "\n",
    "lda_df = pd.DataFrame(train_vecs)\n",
    "id_df = pd.DataFrame(identifiers)"
   ]
  },
  {
   "cell_type": "code",
   "execution_count": 87,
   "metadata": {},
   "outputs": [],
   "source": [
    "X = np.array(train_vecs)\n",
    "y = np.array(identifiers)"
   ]
  },
  {
   "cell_type": "code",
   "execution_count": 88,
   "metadata": {},
   "outputs": [],
   "source": [
    "y = id_df[0]\n",
    "X = lda_df\n",
    "X_train, X_test, y_train, y_test = train_test_split(X, y, test_size=0.3, random_state=41)\n",
    "X_tr, X_te = scale(X_train, X_test)"
   ]
  },
  {
   "cell_type": "code",
   "execution_count": 89,
   "metadata": {},
   "outputs": [
    {
     "name": "stdout",
     "output_type": "stream",
     "text": [
      "The score for MNB is\n",
      "Training:  28.15%\n",
      "Test set:  24.80%\n",
      "The score for kNN is\n",
      "Training:  46.89%\n",
      "Test set:  26.77%\n"
     ]
    }
   ],
   "source": [
    "clf = MultinomialNB()\n",
    "clf.fit(X_train,y_train)\n",
    "print(\"The score for MNB is\")\n",
    "print(\"Training: {:6.2f}%\".format(100*clf.score(X_tr, y_train)))\n",
    "print(\"Test set: {:6.2f}%\".format(100*clf.score(X_te, y_test)))\n",
    "\n",
    "knn = KNeighborsClassifier(n_neighbors=5)\n",
    "knn.fit(X_tr, y_train)\n",
    "print(\"The score for kNN is\")\n",
    "print(\"Training: {:6.2f}%\".format(100*knn.score(X_tr, y_train)))\n",
    "print(\"Test set: {:6.2f}%\".format(100*knn.score(X_te, y_test)))"
   ]
  },
  {
   "cell_type": "code",
   "execution_count": 90,
   "metadata": {
    "scrolled": true
   },
   "outputs": [
    {
     "name": "stdout",
     "output_type": "stream",
     "text": [
      "The score for kNN is\n",
      "Training:  49.93%\n",
      "Test set:  29.08%\n"
     ]
    }
   ],
   "source": [
    "xgb = XGBClassifier()\n",
    "xgb.fit(X_tr, y_train)\n",
    "print(\"The score for XGBoost is\")\n",
    "print(\"Training: {:6.2f}%\".format(100*xgb.score(X_tr, y_train)))\n",
    "print(\"Test set: {:6.2f}%\".format(100*xgb.score(X_te, y_test)))"
   ]
  },
  {
   "cell_type": "code",
   "execution_count": 93,
   "metadata": {},
   "outputs": [
    {
     "name": "stdout",
     "output_type": "stream",
     "text": [
      "The score for SGD is\n",
      "Training:  24.47%\n",
      "Test set:  24.80%\n"
     ]
    }
   ],
   "source": [
    "sgd = SGDClassifier()\n",
    "sgd.fit(X_tr, y_train)\n",
    "print(\"The score for SGD is\")\n",
    "print(\"Training: {:6.2f}%\".format(100*sgd.score(X_train, y_train)))\n",
    "print(\"Test set: {:6.2f}%\".format(100*sgd.score(X_test, y_test)))"
   ]
  }
 ],
 "metadata": {
  "kernelspec": {
   "display_name": "metis",
   "language": "python",
   "name": "metis"
  },
  "language_info": {
   "codemirror_mode": {
    "name": "ipython",
    "version": 3
   },
   "file_extension": ".py",
   "mimetype": "text/x-python",
   "name": "python",
   "nbconvert_exporter": "python",
   "pygments_lexer": "ipython3",
   "version": "3.7.3"
  },
  "varInspector": {
   "cols": {
    "lenName": 16,
    "lenType": 16,
    "lenVar": 40
   },
   "kernels_config": {
    "python": {
     "delete_cmd_postfix": "",
     "delete_cmd_prefix": "del ",
     "library": "var_list.py",
     "varRefreshCmd": "print(var_dic_list())"
    },
    "r": {
     "delete_cmd_postfix": ") ",
     "delete_cmd_prefix": "rm(",
     "library": "var_list.r",
     "varRefreshCmd": "cat(var_dic_list()) "
    }
   },
   "types_to_exclude": [
    "module",
    "function",
    "builtin_function_or_method",
    "instance",
    "_Feature"
   ],
   "window_display": false
  }
 },
 "nbformat": 4,
 "nbformat_minor": 2
}

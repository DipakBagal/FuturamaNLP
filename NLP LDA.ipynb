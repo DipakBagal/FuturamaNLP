{
 "cells": [
  {
   "cell_type": "markdown",
   "metadata": {},
   "source": [
    "### LDA Attempt # 2"
   ]
  },
  {
   "cell_type": "markdown",
   "metadata": {},
   "source": [
    "In this notebook, I use LDA to find topics, and then I perform clustering"
   ]
  },
  {
   "cell_type": "code",
   "execution_count": 1,
   "metadata": {},
   "outputs": [],
   "source": [
    "import re\n",
    "import numpy as np\n",
    "import pandas as pd\n",
    "from pprint import pprint\n",
    "import pickle\n",
    "\n",
    "# Gensim\n",
    "import gensim\n",
    "import gensim.corpora as corpora\n",
    "from gensim.utils import simple_preprocess\n",
    "from gensim.models import CoherenceModel\n",
    "\n",
    "# spacy for lemmatization\n",
    "import spacy\n",
    "\n",
    "# Plotting tools\n",
    "import pyLDAvis\n",
    "import pyLDAvis.gensim  # don't skip this\n",
    "import matplotlib.pyplot as plt\n",
    "%matplotlib inline\n",
    "\n",
    "# Enable logging for gensim - optional\n",
    "import logging\n",
    "logging.basicConfig(format='%(asctime)s : %(levelname)s : %(message)s', level=logging.ERROR)\n",
    "\n",
    "import warnings\n",
    "warnings.filterwarnings(\"ignore\",category=DeprecationWarning)"
   ]
  },
  {
   "cell_type": "code",
   "execution_count": 2,
   "metadata": {},
   "outputs": [],
   "source": [
    "with open(\"all_lines\",\"rb\") as pickle_in:\n",
    "    all_lines = pickle.load(pickle_in)"
   ]
  },
  {
   "cell_type": "code",
   "execution_count": 3,
   "metadata": {},
   "outputs": [
    {
     "name": "stdout",
     "output_type": "stream",
     "text": [
      "[['space', 'it', 'seems', 'to', 'go', 'on', 'and', 'on', 'forever', 'but', 'then', 'you', 'get', 'to', 'the', 'end', 'and', 'the', 'gorilla', 'starts', 'throwing', 'barrels', 'at', 'you', 'and', 'that', 'how', 'you', 'play', 'the', 'game', 'michelle', 'baby', 'where', 'you', 'going', 'hate', 'my', 'life', 'hate', 'my', 'life', 'hate', 'my', 'life', 'hello', 'pizza', 'delivery', 'for', 'uh', 'here', 'to', 'another', 'lousy', 'millennium']]\n"
     ]
    }
   ],
   "source": [
    "def sent_to_words(sentences):\n",
    "    for sentence in sentences:\n",
    "        yield(gensim.utils.simple_preprocess(str(sentence), deacc=True))  # deacc=True removes punctuations\n",
    "\n",
    "data_words = list(sent_to_words(all_lines))\n",
    "\n",
    "print(data_words[:1])"
   ]
  },
  {
   "cell_type": "code",
   "execution_count": 4,
   "metadata": {},
   "outputs": [
    {
     "name": "stdout",
     "output_type": "stream",
     "text": [
      "['space', 'it', 'seems', 'to', 'go', 'on', 'and', 'on', 'forever', 'but', 'then', 'you', 'get', 'to', 'the', 'end', 'and', 'the', 'gorilla', 'starts', 'throwing', 'barrels', 'at', 'you', 'and', 'that', 'how', 'you', 'play', 'the', 'game', 'michelle', 'baby', 'where', 'you', 'going', 'hate', 'my', 'life', 'hate', 'my', 'life', 'hate', 'my', 'life', 'hello', 'pizza_delivery', 'for', 'uh', 'here', 'to', 'another', 'lousy', 'millennium']\n"
     ]
    }
   ],
   "source": [
    "# Build the bigram and trigram models\n",
    "bigram = gensim.models.Phrases(data_words, min_count=5, threshold=100) # higher threshold fewer phrases.\n",
    "trigram = gensim.models.Phrases(bigram[data_words], threshold=100)  \n",
    "\n",
    "# Faster way to get a sentence clubbed as a trigram/bigram\n",
    "bigram_mod = gensim.models.phrases.Phraser(bigram)\n",
    "trigram_mod = gensim.models.phrases.Phraser(trigram)\n",
    "\n",
    "# See trigram example\n",
    "print(trigram_mod[bigram_mod[data_words[0]]])"
   ]
  },
  {
   "cell_type": "code",
   "execution_count": 5,
   "metadata": {},
   "outputs": [],
   "source": [
    "# Define functions for stopwords, bigrams, trigrams and lemmatization\n",
    "def remove_stopwords(texts):\n",
    "    return [[word for word in simple_preprocess(str(doc)) if word not in stop_words] for doc in texts]\n",
    "\n",
    "def make_bigrams(texts):\n",
    "    return [bigram_mod[doc] for doc in texts]\n",
    "\n",
    "def make_trigrams(texts):\n",
    "    return [trigram_mod[bigram_mod[doc]] for doc in texts]\n",
    "\n",
    "def lemmatization(texts, allowed_postags=['NOUN', 'ADJ', 'VERB', 'ADV']):\n",
    "    \"\"\"https://spacy.io/api/annotation\"\"\"\n",
    "    texts_out = []\n",
    "    for sent in texts:\n",
    "        doc = nlp(\" \".join(sent)) \n",
    "        texts_out.append([token.lemma_ for token in doc if token.pos_ in allowed_postags])\n",
    "    return texts_out"
   ]
  },
  {
   "cell_type": "code",
   "execution_count": 6,
   "metadata": {},
   "outputs": [
    {
     "name": "stderr",
     "output_type": "stream",
     "text": [
      "[nltk_data] Downloading package stopwords to\n",
      "[nltk_data]     /Users/isaackim/nltk_data...\n",
      "[nltk_data]   Package stopwords is already up-to-date!\n"
     ]
    },
    {
     "data": {
      "text/plain": [
       "True"
      ]
     },
     "execution_count": 6,
     "metadata": {},
     "output_type": "execute_result"
    }
   ],
   "source": [
    "import nltk\n",
    "from nltk.corpus import stopwords\n",
    "nltk.download('stopwords')"
   ]
  },
  {
   "cell_type": "code",
   "execution_count": 29,
   "metadata": {},
   "outputs": [],
   "source": [
    "stop_words = stopwords.words('english')\n",
    "stop_words.extend(['from', 'subject', 're', 'edu', 'use'])"
   ]
  },
  {
   "cell_type": "code",
   "execution_count": 30,
   "metadata": {},
   "outputs": [],
   "source": [
    "stop_words2 = stop_words.extend(['fry','bender','leela','amy','hermes','professor,','zoidberg'])"
   ]
  },
  {
   "cell_type": "code",
   "execution_count": 31,
   "metadata": {},
   "outputs": [
    {
     "name": "stdout",
     "output_type": "stream",
     "text": [
      "[['space', 'seem', 'go', 'forever', 'get', 'end', 'gorilla', 'start', 'throw', 'barrel', 'play', 'game', 'michelle', 'baby', 'go', 'hate', 'life', 'hate', 'life', 'hate', 'life', 'pizza_delivery', 'lousy', 'millennium']]\n"
     ]
    }
   ],
   "source": [
    "# Remove Stop Words\n",
    "data_words_nostops = remove_stopwords(data_words)\n",
    "\n",
    "# Form Bigrams\n",
    "data_words_bigrams = make_bigrams(data_words_nostops)\n",
    "\n",
    "# Initialize spacy 'en' model, keeping only tagger component (for efficiency)\n",
    "# python3 -m spacy download en\n",
    "nlp = spacy.load('en', disable=['parser', 'ner'])\n",
    "\n",
    "# Do lemmatization keeping only noun, adj, vb, adv\n",
    "data_lemmatized = lemmatization(data_words_bigrams, allowed_postags=['NOUN', 'ADJ', 'VERB', 'ADV'])\n",
    "\n",
    "print(data_lemmatized[:1])"
   ]
  },
  {
   "cell_type": "code",
   "execution_count": 32,
   "metadata": {},
   "outputs": [
    {
     "data": {
      "text/plain": [
       "gensim.corpora.dictionary.Dictionary"
      ]
     },
     "execution_count": 32,
     "metadata": {},
     "output_type": "execute_result"
    }
   ],
   "source": [
    "type(id2word)"
   ]
  },
  {
   "cell_type": "code",
   "execution_count": 41,
   "metadata": {},
   "outputs": [
    {
     "name": "stdout",
     "output_type": "stream",
     "text": [
      "[[(0, 1), (1, 1), (2, 1), (3, 1), (4, 1), (5, 1), (6, 3), (7, 3), (8, 1), (9, 1), (10, 1), (11, 1), (12, 1), (13, 1), (14, 1), (15, 1), (16, 1)]]\n"
     ]
    }
   ],
   "source": [
    "# Create Dictionary\n",
    "id2word = corpora.Dictionary(data_lemmatized)\n",
    "id2word.filter_extremes(no_below=2, no_above=.1)\n",
    "# Create Corpus\n",
    "texts = data_lemmatized\n",
    "\n",
    "# Term Document Frequency\n",
    "corpus = [id2word.doc2bow(text) for text in texts]\n",
    "\n",
    "# View\n",
    "print(corpus[:1])"
   ]
  },
  {
   "cell_type": "code",
   "execution_count": 42,
   "metadata": {},
   "outputs": [
    {
     "data": {
      "text/plain": [
       "[[('baby', 1),\n",
       "  ('barrel', 1),\n",
       "  ('end', 1),\n",
       "  ('forever', 1),\n",
       "  ('game', 1),\n",
       "  ('gorilla', 1),\n",
       "  ('hate', 3),\n",
       "  ('life', 3),\n",
       "  ('lousy', 1),\n",
       "  ('michelle', 1),\n",
       "  ('millennium', 1),\n",
       "  ('pizza_delivery', 1),\n",
       "  ('play', 1),\n",
       "  ('seem', 1),\n",
       "  ('space', 1),\n",
       "  ('start', 1),\n",
       "  ('throw', 1)]]"
      ]
     },
     "execution_count": 42,
     "metadata": {},
     "output_type": "execute_result"
    }
   ],
   "source": [
    "# Human readable format of corpus (term-frequency)\n",
    "[[(id2word[id], freq) for id, freq in cp] for cp in corpus[:1]]"
   ]
  },
  {
   "cell_type": "code",
   "execution_count": 51,
   "metadata": {},
   "outputs": [],
   "source": [
    "# Build LDA model\n",
    "lda_model = gensim.models.ldamodel.LdaModel(corpus=corpus,\n",
    "                                           id2word=id2word,\n",
    "                                           num_topics=6, \n",
    "                                           random_state=100,\n",
    "                                           update_every=1,\n",
    "                                           chunksize=100,\n",
    "                                           passes=10,\n",
    "                                           alpha='auto',\n",
    "                                           per_word_topics=True)"
   ]
  },
  {
   "cell_type": "code",
   "execution_count": 52,
   "metadata": {},
   "outputs": [
    {
     "name": "stdout",
     "output_type": "stream",
     "text": [
      "[(0,\n",
      "  '0.047*\"kif\" + 0.030*\"captain\" + 0.024*\"woman\" + 0.019*\"first\" + '\n",
      "  '0.012*\"remember\" + 0.010*\"world\" + 0.009*\"together\" + 0.008*\"wong\" + '\n",
      "  '0.008*\"fight\" + 0.008*\"fly\"'),\n",
      " (1,\n",
      "  '0.019*\"ship\" + 0.018*\"work\" + 0.017*\"robot\" + 0.017*\"new\" + 0.016*\"earth\" + '\n",
      "  '0.011*\"nothing\" + 0.009*\"keep\" + 0.009*\"human\" + 0.009*\"space\" + '\n",
      "  '0.008*\"fire\"'),\n",
      " (2,\n",
      "  '0.030*\"professor\" + 0.020*\"must\" + 0.019*\"kill\" + 0.017*\"planet\" + '\n",
      "  '0.014*\"name\" + 0.013*\"boy\" + 0.012*\"man\" + 0.011*\"turn\" + 0.011*\"word\" + '\n",
      "  '0.009*\"hell\"'),\n",
      " (3,\n",
      "  '0.027*\"sweet\" + 0.016*\"child\" + 0.013*\"poor\" + 0.012*\"point\" + '\n",
      "  '0.012*\"prepare\" + 0.011*\"father\" + 0.011*\"nibbler\" + 0.009*\"hot\" + '\n",
      "  '0.009*\"stick\" + 0.009*\"hurt\"'),\n",
      " (4,\n",
      "  '0.019*\"love\" + 0.017*\"sir\" + 0.016*\"want\" + 0.016*\"never\" + 0.015*\"may\" + '\n",
      "  '0.013*\"way\" + 0.012*\"life\" + 0.012*\"stop\" + 0.012*\"mean\" + 0.012*\"really\"'),\n",
      " (5,\n",
      "  '0.016*\"give\" + 0.015*\"man\" + 0.015*\"thank\" + 0.014*\"call\" + 0.012*\"day\" + '\n",
      "  '0.012*\"everyone\" + 0.011*\"year\" + 0.011*\"ever\" + 0.011*\"still\" + '\n",
      "  '0.010*\"big\"')]\n"
     ]
    }
   ],
   "source": [
    "# Print the Keyword in the 10 topics\n",
    "pprint(lda_model.print_topics())\n",
    "doc_lda = lda_model[corpus]"
   ]
  },
  {
   "cell_type": "code",
   "execution_count": 53,
   "metadata": {},
   "outputs": [
    {
     "name": "stdout",
     "output_type": "stream",
     "text": [
      "\n",
      "Perplexity:  -8.034816617027905\n",
      "\n",
      "Coherence Score:  0.30982921518126244\n"
     ]
    }
   ],
   "source": [
    "# Compute Perplexity\n",
    "print('\\nPerplexity: ', lda_model.log_perplexity(corpus))  # a measure of how good the model is. lower the better.\n",
    "\n",
    "# Compute Coherence Score\n",
    "coherence_model_lda = CoherenceModel(model=lda_model, texts=data_lemmatized, dictionary=id2word, coherence='c_v')\n",
    "coherence_lda = coherence_model_lda.get_coherence()\n",
    "print('\\nCoherence Score: ', coherence_lda)\n"
   ]
  },
  {
   "cell_type": "markdown",
   "metadata": {},
   "source": [
    "### Looking for the optimum number of topics using coherence scores"
   ]
  },
  {
   "cell_type": "code",
   "execution_count": 31,
   "metadata": {},
   "outputs": [],
   "source": [
    "def compute_coherence_values(dictionary, corpus, texts, limit, start=2, step=3):\n",
    "    \"\"\"\n",
    "    Compute c_v coherence for various number of topics\n",
    "\n",
    "    Parameters:\n",
    "    ----------\n",
    "    dictionary : Gensim dictionary\n",
    "    corpus : Gensim corpus\n",
    "    texts : List of input texts\n",
    "    limit : Max num of topics\n",
    "\n",
    "    Returns:\n",
    "    -------\n",
    "    model_list : List of LDA topic models\n",
    "    coherence_values : Coherence values corresponding to the LDA model with respective number of topics\n",
    "    \"\"\"\n",
    "    coherence_values = []\n",
    "    model_list = []\n",
    "    for num_topics in range(start, limit, step):\n",
    "        model = lda_model = gensim.models.ldamodel.LdaModel(corpus=corpus,\n",
    "                                           id2word=dictionary,\n",
    "                                           num_topics=num_topics, \n",
    "                                           random_state=100,\n",
    "                                           update_every=1,\n",
    "                                           chunksize=100,\n",
    "                                           passes=10,\n",
    "                                           alpha='auto',\n",
    "                                           per_word_topics=True)\n",
    "        model_list.append(model)\n",
    "        coherencemodel = CoherenceModel(model=model, texts=texts, dictionary=dictionary, coherence='c_v')\n",
    "        coherence_values.append(coherencemodel.get_coherence())\n",
    "\n",
    "    return model_list, coherence_values"
   ]
  },
  {
   "cell_type": "code",
   "execution_count": 32,
   "metadata": {},
   "outputs": [],
   "source": [
    "model_list, coherence_values = compute_coherence_values(dictionary=id2word, \n",
    "                                                        corpus=corpus, texts=data_lemmatized, start=2, limit=40, step=6)"
   ]
  },
  {
   "cell_type": "code",
   "execution_count": 33,
   "metadata": {},
   "outputs": [
    {
     "data": {
      "image/png": "[encoded data removed]",
      "text/plain": [
       "<Figure size 720x432 with 1 Axes>"
      ]
     },
     "metadata": {
      "needs_background": "light"
     },
     "output_type": "display_data"
    }
   ],
   "source": [
    "# Show graph\n",
    "import matplotlib.pyplot as plt\n",
    "plt.rcParams['figure.figsize'] = (10.0, 6)\n",
    "limit=40; start=2; step=6;\n",
    "x = range(start, limit, step)\n",
    "plt.plot(x, coherence_values)\n",
    "plt.title(\"Finding Optimal Number of Topics\")\n",
    "plt.xlabel(\"Num Topics\")\n",
    "plt.ylabel(\"Coherence score\")\n",
    "plt.legend((\"coherence_values\"), loc='best')\n",
    "plt.show()"
   ]
  },
  {
   "cell_type": "code",
   "execution_count": 38,
   "metadata": {},
   "outputs": [],
   "source": [
    "model_list, coherence_values = compute_coherence_values(dictionary=id2word, \n",
    "                                                        corpus=corpus, texts=data_lemmatized, start=8, limit=14, step=1)"
   ]
  },
  {
   "cell_type": "code",
   "execution_count": 39,
   "metadata": {
    "scrolled": false
   },
   "outputs": [
    {
     "data": {
      "image/png": "[encoded data removed]",
      "text/plain": [
       "<Figure size 720x432 with 1 Axes>"
      ]
     },
     "metadata": {
      "needs_background": "light"
     },
     "output_type": "display_data"
    }
   ],
   "source": [
    "# Show graph\n",
    "import matplotlib.pyplot as plt\n",
    "plt.rcParams['figure.figsize'] = (10.0, 6)\n",
    "limit=14; start=8; step=1;\n",
    "x = range(start, limit, step)\n",
    "plt.plot(x, coherence_values)\n",
    "plt.title(\"Finding Optimal Number of Topics\")\n",
    "plt.xlabel(\"Num Topics\")\n",
    "plt.ylabel(\"Coherence score\")\n",
    "plt.legend((\"coherence_values\"), loc='best')\n",
    "plt.show()"
   ]
  },
  {
   "cell_type": "code",
   "execution_count": 54,
   "metadata": {
    "scrolled": false
   },
   "outputs": [
    {
     "name": "stderr",
     "output_type": "stream",
     "text": [
      "/Users/isaackim/anaconda3/lib/python3.7/site-packages/pyLDAvis/_prepare.py:257: FutureWarning: Sorting because non-concatenation axis is not aligned. A future version\n",
      "of pandas will change to not sort by default.\n",
      "\n",
      "To accept the future behavior, pass 'sort=False'.\n",
      "\n",
      "To retain the current behavior and silence the warning, pass 'sort=True'.\n",
      "\n",
      "  return pd.concat([default_term_info] + list(topic_dfs))\n"
     ]
    },
    {
     "data": {
      "text/html": [
       "\n",
       "<link rel=\"stylesheet\" type=\"text/css\" href=\"https://cdn.rawgit.com/bmabey/pyLDAvis/files/ldavis.v1.0.0.css\">\n",
       "\n",
       "\n",
       "<div id=\"ldavis_el102551122706292884813597872\"></div>\n",
       "<script type=\"text/javascript\">\n",
       "\n",
       "var ldavis_el102551122706292884813597872_data = {\"mdsDat\": {\"x\": [0.3025843128223017, 0.1612613796925812, -0.04768334583145415, -0.0884287001032022, -0.20326619209708274, -0.124467454483144], \"y\": [-0.01865975614568277, 0.13844968304260377, -0.35085096139044175, 0.09051933049849364, 0.1004179826527841, 0.040123721342243], \"topics\": [1, 2, 3, 4, 5, 6], \"cluster\": [1, 1, 1, 1, 1, 1], \"Freq\": [28.93819236755371, 21.99005699157715, 18.38330841064453, 13.405288696289062, 10.409435272216797, 6.873720169067383]}, \"tinfo\": {\"Category\": [\"Default\", \"Default\", \"Default\", \"Default\", \"Default\", \"Default\", \"Default\", \"Default\", \"Default\", \"Default\", \"Default\", \"Default\", \"Default\", \"Default\", \"Default\", \"Default\", \"Default\", \"Default\", \"Default\", \"Default\", \"Default\", \"Default\", \"Default\", \"Default\", \"Default\", \"Default\", \"Default\", \"Default\", \"Default\", \"Default\", \"Topic1\", \"Topic1\", \"Topic1\", \"Topic1\", \"Topic1\", \"Topic1\", \"Topic1\", \"Topic1\", \"Topic1\", \"Topic1\", \"Topic1\", \"Topic1\", \"Topic1\", \"Topic1\", \"Topic1\", \"Topic1\", \"Topic1\", \"Topic1\", \"Topic1\", \"Topic1\", \"Topic1\", \"Topic1\", \"Topic1\", \"Topic1\", \"Topic1\", \"Topic1\", \"Topic1\", \"Topic1\", \"Topic1\", \"Topic1\", \"Topic1\", \"Topic1\", \"Topic1\", \"Topic1\", \"Topic1\", \"Topic1\", \"Topic1\", \"Topic1\", \"Topic1\", \"Topic1\", \"Topic1\", \"Topic1\", \"Topic1\", \"Topic1\", \"Topic2\", \"Topic2\", \"Topic2\", \"Topic2\", \"Topic2\", \"Topic2\", \"Topic2\", \"Topic2\", \"Topic2\", \"Topic2\", \"Topic2\", \"Topic2\", \"Topic2\", \"Topic2\", \"Topic2\", \"Topic2\", \"Topic2\", \"Topic2\", \"Topic2\", \"Topic2\", \"Topic2\", \"Topic2\", \"Topic2\", \"Topic2\", \"Topic2\", \"Topic2\", \"Topic2\", \"Topic2\", \"Topic2\", \"Topic2\", \"Topic2\", \"Topic2\", \"Topic2\", \"Topic2\", \"Topic2\", \"Topic2\", \"Topic2\", \"Topic2\", \"Topic2\", \"Topic2\", \"Topic2\", \"Topic3\", \"Topic3\", \"Topic3\", \"Topic3\", \"Topic3\", \"Topic3\", \"Topic3\", \"Topic3\", \"Topic3\", \"Topic3\", \"Topic3\", \"Topic3\", \"Topic3\", \"Topic3\", \"Topic3\", \"Topic3\", \"Topic3\", \"Topic3\", \"Topic3\", \"Topic3\", \"Topic3\", \"Topic3\", \"Topic3\", \"Topic3\", \"Topic3\", \"Topic3\", \"Topic3\", \"Topic3\", \"Topic3\", \"Topic3\", \"Topic3\", \"Topic3\", \"Topic3\", \"Topic3\", \"Topic3\", \"Topic3\", \"Topic3\", \"Topic4\", \"Topic4\", \"Topic4\", \"Topic4\", \"Topic4\", \"Topic4\", \"Topic4\", \"Topic4\", \"Topic4\", \"Topic4\", \"Topic4\", \"Topic4\", \"Topic4\", \"Topic4\", \"Topic4\", \"Topic4\", \"Topic4\", \"Topic4\", \"Topic4\", \"Topic4\", \"Topic4\", \"Topic4\", \"Topic4\", \"Topic4\", \"Topic4\", \"Topic4\", \"Topic4\", \"Topic4\", \"Topic4\", \"Topic4\", \"Topic4\", \"Topic4\", \"Topic4\", \"Topic5\", \"Topic5\", \"Topic5\", \"Topic5\", \"Topic5\", \"Topic5\", \"Topic5\", \"Topic5\", \"Topic5\", \"Topic5\", \"Topic5\", \"Topic5\", \"Topic5\", \"Topic5\", \"Topic5\", \"Topic5\", \"Topic5\", \"Topic5\", \"Topic5\", \"Topic5\", \"Topic5\", \"Topic5\", \"Topic5\", \"Topic5\", \"Topic5\", \"Topic5\", \"Topic5\", \"Topic5\", \"Topic5\", \"Topic5\", \"Topic5\", \"Topic5\", \"Topic5\", \"Topic5\", \"Topic5\", \"Topic6\", \"Topic6\", \"Topic6\", \"Topic6\", \"Topic6\", \"Topic6\", \"Topic6\", \"Topic6\", \"Topic6\", \"Topic6\", \"Topic6\", \"Topic6\", \"Topic6\", \"Topic6\", \"Topic6\", \"Topic6\", \"Topic6\", \"Topic6\", \"Topic6\", \"Topic6\", \"Topic6\", \"Topic6\", \"Topic6\", \"Topic6\", \"Topic6\", \"Topic6\", \"Topic6\", \"Topic6\", \"Topic6\", \"Topic6\", \"Topic6\", \"Topic6\"], \"Freq\": [257.0, 212.0, 166.0, 288.0, 181.0, 132.0, 176.0, 140.0, 167.0, 185.0, 227.0, 163.0, 135.0, 242.0, 253.0, 98.0, 175.0, 284.0, 152.0, 164.0, 121.0, 107.0, 284.0, 189.0, 184.0, 177.0, 143.0, 210.0, 180.0, 139.0, 288.1479187011719, 226.69271850585938, 188.85296630859375, 183.7019805908203, 177.15757751464844, 159.93104553222656, 155.64622497558594, 145.28392028808594, 133.90399169921875, 120.74545288085938, 116.08964538574219, 115.50616455078125, 114.1380615234375, 112.29971313476562, 108.7403793334961, 108.3861083984375, 108.06889343261719, 102.02218627929688, 88.16668701171875, 86.92257690429688, 85.26580047607422, 85.14839172363281, 80.93050384521484, 80.78973388671875, 165.43240356445312, 75.17821502685547, 74.52420043945312, 74.11585235595703, 73.76158142089844, 73.75235748291016, 178.32151794433594, 147.14479064941406, 130.3748321533203, 237.5166015625, 244.82492065429688, 200.15554809570312, 260.3575134277344, 163.81092834472656, 139.141845703125, 170.7693328857422, 131.7652130126953, 137.57794189453125, 135.98489379882812, 113.27432250976562, 184.37448120117188, 174.7366180419922, 163.6046600341797, 139.24957275390625, 143.1654052734375, 127.68917846679688, 110.82862091064453, 104.53043365478516, 96.11869049072266, 131.41786193847656, 77.9661865234375, 78.55261993408203, 73.86172485351562, 69.16446685791016, 68.10921478271484, 68.09140014648438, 67.9660415649414, 67.75226593017578, 64.48072052001953, 64.20487213134766, 62.67547607421875, 62.153133392333984, 57.51054000854492, 55.567874908447266, 54.7605094909668, 54.429298400878906, 54.56269836425781, 53.17388153076172, 52.985782623291016, 51.531898498535156, 57.00301742553711, 124.23037719726562, 175.4869384765625, 114.80233001708984, 92.68248748779297, 105.51712799072266, 107.35602569580078, 65.4858169555664, 74.2342758178711, 83.9944076538086, 65.76959228515625, 180.86048889160156, 166.4907989501953, 162.4213104248047, 151.4698944091797, 89.22975158691406, 86.19140625, 82.68658447265625, 77.39128112792969, 76.29795837402344, 73.11675262451172, 107.13475799560547, 72.049072265625, 70.4298095703125, 69.0064468383789, 66.28995513916016, 64.43682861328125, 62.234031677246094, 60.10136032104492, 55.62755584716797, 173.8057098388672, 51.18614959716797, 49.545047760009766, 48.4929084777832, 48.4062614440918, 46.94443130493164, 46.637760162353516, 45.54048538208008, 45.075157165527344, 44.49787902832031, 48.49431610107422, 57.00075149536133, 58.44080352783203, 51.047279357910156, 58.79807662963867, 52.347190856933594, 51.93225860595703, 51.94169235229492, 211.38861083984375, 140.08702087402344, 135.11849975585938, 121.22315216064453, 97.04895782470703, 92.83162689208984, 77.12480163574219, 74.64796447753906, 65.72802734375, 65.13465881347656, 63.72416305541992, 58.88594436645508, 58.16666793823242, 55.047489166259766, 54.23111343383789, 48.421146392822266, 48.21229934692383, 47.71623229980469, 44.517208099365234, 42.20295715332031, 40.63215255737305, 39.324974060058594, 38.271018981933594, 37.3163948059082, 36.08592224121094, 32.880435943603516, 32.34779739379883, 32.044681549072266, 29.87436866760254, 29.794342041015625, 83.55758666992188, 39.7784538269043, 32.11451721191406, 256.8442077636719, 165.8477783203125, 131.9188690185547, 106.43028259277344, 68.27598571777344, 52.283531188964844, 49.9334716796875, 46.29719924926758, 44.02029800415039, 42.97529602050781, 42.74755859375, 42.6812744140625, 41.488136291503906, 39.488037109375, 39.63670349121094, 38.10162353515625, 33.64320755004883, 29.821340560913086, 29.671855926513672, 29.31036949157715, 28.360971450805664, 28.369495391845703, 31.588499069213867, 26.788055419921875, 27.159711837768555, 26.157238006591797, 24.60635757446289, 24.38065528869629, 23.517873764038086, 23.264930725097656, 25.35492706298828, 42.58552932739258, 29.76078987121582, 27.950563430786133, 25.848718643188477, 97.38166809082031, 56.42271041870117, 46.95071792602539, 42.57149124145508, 41.68452072143555, 39.05698013305664, 38.294158935546875, 34.11636734008789, 33.245941162109375, 32.121273040771484, 31.960857391357422, 31.951536178588867, 30.910537719726562, 30.636241912841797, 28.129493713378906, 26.557100296020508, 25.83812713623047, 26.012739181518555, 26.01226806640625, 25.139787673950195, 23.95576286315918, 23.82195281982422, 23.6250057220459, 23.60205078125, 23.768537521362305, 22.57893943786621, 21.87995719909668, 21.796506881713867, 21.526538848876953, 21.231260299682617, 21.460506439208984, 22.001523971557617], \"Term\": [\"kif\", \"professor\", \"captain\", \"love\", \"ship\", \"woman\", \"work\", \"must\", \"robot\", \"give\", \"may\", \"new\", \"kill\", \"never\", \"want\", \"sweet\", \"thank\", \"sir\", \"earth\", \"call\", \"planet\", \"first\", \"man\", \"life\", \"stop\", \"really\", \"day\", \"way\", \"mean\", \"everyone\", \"love\", \"may\", \"life\", \"stop\", \"really\", \"find\", \"feel\", \"body\", \"maybe\", \"long\", \"try\", \"bad\", \"course\", \"much\", \"talk\", \"put\", \"live\", \"save\", \"nice\", \"anything\", \"end\", \"mind\", \"someone\", \"head\", \"people\", \"understand\", \"baby\", \"wanna\", \"miss\", \"happy\", \"mean\", \"leave\", \"happen\", \"never\", \"want\", \"way\", \"sir\", \"would\", \"great\", \"little\", \"tell\", \"right\", \"need\", \"friend\", \"give\", \"thank\", \"call\", \"everyone\", \"day\", \"ever\", \"actually\", \"die\", \"use\", \"year\", \"bring\", \"order\", \"next\", \"god\", \"lot\", \"true\", \"cut\", \"shall\", \"anyone\", \"also\", \"water\", \"do\", \"build\", \"hole\", \"suppose\", \"face\", \"dear\", \"real\", \"kind\", \"lie\", \"dead\", \"still\", \"man\", \"big\", \"old\", \"help\", \"something\", \"wrong\", \"hear\", \"need\", \"even\", \"ship\", \"robot\", \"new\", \"earth\", \"keep\", \"human\", \"space\", \"fire\", \"parent\", \"start\", \"nothing\", \"perhaps\", \"care\", \"part\", \"move\", \"everything\", \"free\", \"universe\", \"begin\", \"work\", \"job\", \"crazy\", \"stay\", \"pick\", \"else\", \"dream\", \"pay\", \"nose\", \"question\", \"stuff\", \"beautiful\", \"enough\", \"hand\", \"show\", \"place\", \"ask\", \"right\", \"professor\", \"must\", \"kill\", \"planet\", \"name\", \"boy\", \"turn\", \"word\", \"hell\", \"mon\", \"brain\", \"death\", \"business\", \"company\", \"worry\", \"low\", \"heart\", \"girl\", \"fun\", \"high\", \"become\", \"poem\", \"giant\", \"form\", \"farnsworth\", \"impossible\", \"full\", \"son\", \"mutant\", \"quick\", \"man\", \"little\", \"big\", \"kif\", \"captain\", \"woman\", \"first\", \"remember\", \"world\", \"together\", \"wong\", \"fight\", \"fly\", \"better\", \"alien\", \"sex\", \"exactly\", \"doctor\", \"mission\", \"shoot\", \"check\", \"welcome\", \"brave\", \"follow\", \"waste\", \"neutral\", \"drive\", \"gift\", \"week\", \"quite\", \"crash\", \"quiet\", \"anyway\", \"rustler\", \"last\", \"young\", \"meet\", \"old\", \"sweet\", \"child\", \"poor\", \"point\", \"prepare\", \"father\", \"nibbler\", \"hot\", \"stick\", \"hurt\", \"send\", \"battle\", \"tomorrow\", \"good_news\", \"computer\", \"complete\", \"dog\", \"enjoy\", \"private\", \"change\", \"card\", \"honour\", \"count\", \"fill\", \"uniform\", \"win\", \"lord\", \"pant\", \"xma\", \"cold\", \"erotic\", \"velour\"], \"Total\": [257.0, 212.0, 166.0, 288.0, 181.0, 132.0, 176.0, 140.0, 167.0, 185.0, 227.0, 163.0, 135.0, 242.0, 253.0, 98.0, 175.0, 284.0, 152.0, 164.0, 121.0, 107.0, 284.0, 189.0, 184.0, 177.0, 143.0, 210.0, 180.0, 139.0, 288.9078369140625, 227.40786743164062, 189.56494140625, 184.4141845703125, 177.86911010742188, 160.6441192626953, 156.35833740234375, 145.9978790283203, 134.615966796875, 121.4582748413086, 116.80196380615234, 116.21790313720703, 114.85221099853516, 113.01161193847656, 109.4525146484375, 109.09820556640625, 108.809326171875, 102.7344741821289, 88.87838745117188, 87.63388061523438, 85.9784927368164, 85.86112976074219, 81.64387512207031, 81.50238800048828, 166.89247131347656, 75.89260864257812, 75.2366714477539, 74.82665252685547, 74.47311401367188, 74.46626281738281, 180.1732177734375, 148.69436645507812, 131.78269958496094, 242.85195922851562, 253.61944580078125, 210.75418090820312, 284.26873779296875, 176.3684844970703, 172.86802673339844, 232.1663818359375, 163.29794311523438, 215.408203125, 220.5355682373047, 147.80641174316406, 185.09291076660156, 175.45399475097656, 164.3220977783203, 139.96604919433594, 143.9052276611328, 128.40631103515625, 111.55216217041016, 105.24755096435547, 96.83759307861328, 132.5701904296875, 78.68521118164062, 79.27899932861328, 74.58004760742188, 69.8812255859375, 68.82780456542969, 68.81013488769531, 68.68421936035156, 68.4810791015625, 65.19760131835938, 64.92328643798828, 63.397056579589844, 62.87060546875, 58.2280158996582, 56.28908157348633, 55.47848129272461, 55.14539337158203, 55.28277587890625, 53.89141845703125, 53.70192337036133, 52.25165557861328, 58.51032257080078, 163.77377319335938, 284.4979553222656, 162.09835815429688, 119.12200164794922, 144.77772521972656, 156.782470703125, 73.02569580078125, 90.35215759277344, 220.5355682373047, 185.2322998046875, 181.58560180664062, 167.21287536621094, 163.14151000976562, 152.1953887939453, 89.95030975341797, 86.91188049316406, 83.40679168701172, 78.11499786376953, 77.0242919921875, 73.83961486816406, 108.20547485351562, 72.78056335449219, 71.15443420410156, 69.73260498046875, 67.0120620727539, 65.15799713134766, 62.95729064941406, 60.8240966796875, 56.35631561279297, 176.13853454589844, 51.907588958740234, 50.266090393066406, 49.213809967041016, 49.12821960449219, 47.665069580078125, 47.358272552490234, 46.25995635986328, 45.797584533691406, 45.2197265625, 49.30852127075195, 64.39506530761719, 89.21062469482422, 65.37281036376953, 102.01083374023438, 83.68446350097656, 81.80679321289062, 215.408203125, 212.11488342285156, 140.81520080566406, 135.8437042236328, 121.95337677001953, 97.77687072753906, 93.56009674072266, 77.85279083251953, 75.37741088867188, 66.45494842529297, 65.87173461914062, 64.45150756835938, 59.61311721801758, 58.89531326293945, 55.77653503417969, 54.95855712890625, 49.152591705322266, 48.94145965576172, 48.4437141418457, 45.24441146850586, 42.93111801147461, 41.360511779785156, 40.05369567871094, 39.001136779785156, 38.04339599609375, 36.81669998168945, 33.61384201049805, 33.0739631652832, 32.77287292480469, 30.599288940429688, 30.52138900756836, 284.4979553222656, 232.1663818359375, 162.09835815429688, 257.62896728515625, 166.627197265625, 132.6748809814453, 107.1789779663086, 69.02236938476562, 53.029441833496094, 50.68161392211914, 47.04842758178711, 44.770240783691406, 43.72279739379883, 43.496437072753906, 43.432533264160156, 42.24135208129883, 40.23524856567383, 40.391239166259766, 38.85087203979492, 34.392948150634766, 30.568193435668945, 30.423355102539062, 30.06739044189453, 29.112668991088867, 29.121814727783203, 32.46128845214844, 27.536170959472656, 27.919836044311523, 26.905113220214844, 25.359121322631836, 25.136219024658203, 24.267257690429688, 24.013015747070312, 26.173961639404297, 67.1112289428711, 46.23183822631836, 85.50271606445312, 119.12200164794922, 98.12930297851562, 57.170654296875, 47.69351577758789, 43.32123947143555, 42.4407844543457, 39.80398941040039, 39.03309631347656, 34.85829544067383, 33.98805618286133, 32.866363525390625, 32.705970764160156, 32.7114143371582, 31.65493392944336, 31.385709762573242, 28.896434783935547, 27.308874130249023, 26.582069396972656, 26.7617244720459, 26.779203414916992, 25.881114959716797, 24.698923110961914, 24.564790725708008, 24.366653442382812, 24.347885131835938, 24.527334213256836, 23.322587966918945, 22.6217041015625, 22.539146423339844, 22.266803741455078, 21.975181579589844, 22.268348693847656, 25.25282859802246], \"loglift\": [30.0, 29.0, 28.0, 27.0, 26.0, 25.0, 24.0, 23.0, 22.0, 21.0, 20.0, 19.0, 18.0, 17.0, 16.0, 15.0, 14.0, 13.0, 12.0, 11.0, 10.0, 9.0, 8.0, 7.0, 6.0, 5.0, 4.0, 3.0, 2.0, 1.0, 1.2374000549316406, 1.236899971961975, 1.236199975013733, 1.2360999584197998, 1.2359999418258667, 1.2355999946594238, 1.2353999614715576, 1.2351000308990479, 1.2346999645233154, 1.2340999841690063, 1.2338999509811401, 1.2338999509811401, 1.2338000535964966, 1.2337000370025635, 1.2335000038146973, 1.2335000038146973, 1.233199954032898, 1.2331000566482544, 1.2319999933242798, 1.2318999767303467, 1.2316999435424805, 1.2316999435424805, 1.2311999797821045, 1.2311999797821045, 1.2311999797821045, 1.2305999994277954, 1.2304999828338623, 1.2304999828338623, 1.2303999662399292, 1.2303999662399292, 1.229699969291687, 1.2295000553131104, 1.2293000221252441, 1.2178000211715698, 1.204699993133545, 1.1884000301361084, 1.1520999670028687, 1.166100025177002, 1.0230000019073486, 0.9329000115394592, 1.0255000591278076, 0.791700005531311, 0.7565000057220459, 0.9739000201225281, 1.510699987411499, 1.5104999542236328, 1.510200023651123, 1.5094000101089478, 1.5094000101089478, 1.5089999437332153, 1.5081000328063965, 1.507699966430664, 1.507099986076355, 1.5058000087738037, 1.5053999423980713, 1.5053999423980713, 1.5048999786376953, 1.5042999982833862, 1.50409996509552, 1.50409996509552, 1.50409996509552, 1.5039000511169434, 1.503499984741211, 1.503499984741211, 1.503100037574768, 1.503100037574768, 1.5022000074386597, 1.5017000436782837, 1.5016000270843506, 1.5015000104904175, 1.5015000104904175, 1.5011999607086182, 1.5011999607086182, 1.5006999969482422, 1.4884999990463257, 1.2381999492645264, 1.0313999652862549, 1.169600009918213, 1.2635999917984009, 1.1983000040054321, 1.1359000205993652, 1.4055999517440796, 1.3180999755859375, 0.5493000149726868, 0.47909998893737793, 1.6897000074386597, 1.6893999576568604, 1.6892999410629272, 1.6888999938964844, 1.6857000589370728, 1.6854000091552734, 1.6850999593734741, 1.684399962425232, 1.6842999458312988, 1.683899998664856, 1.6837999820709229, 1.6835999488830566, 1.683500051498413, 1.6833000183105469, 1.6828999519348145, 1.6826000213623047, 1.6821999549865723, 1.6818000078201294, 1.6806999444961548, 1.680400013923645, 1.6797000169754028, 1.6792999505996704, 1.6790000200271606, 1.6789000034332275, 1.6785000562667847, 1.6784000396728516, 1.6780999898910522, 1.6778000593185425, 1.6776000261306763, 1.6770999431610107, 1.5717999935150146, 1.2706999778747559, 1.4464000463485718, 1.142799973487854, 1.2245999574661255, 1.239300012588501, 0.27129998803138733, 2.0060999393463135, 2.004300117492676, 2.004199981689453, 2.003499984741211, 2.002000093460083, 2.001699924468994, 2.0000998973846436, 1.9997999668121338, 1.9984999895095825, 1.9982999563217163, 1.9982000589370728, 1.9972000122070312, 1.9970999956130981, 1.996399998664856, 1.9961999654769897, 1.9945000410079956, 1.9945000410079956, 1.9944000244140625, 1.993299961090088, 1.992400050163269, 1.9917999505996704, 1.9911999702453613, 1.9905999898910522, 1.9902000427246094, 1.9895000457763672, 1.9874999523162842, 1.9873000383377075, 1.9871000051498413, 1.9854999780654907, 1.9853999614715576, 0.7843000292778015, 0.24539999663829803, 0.3905999958515167, 2.259399890899658, 2.2578001022338867, 2.256700038909912, 2.2553999423980713, 2.2516000270843506, 2.248300075531006, 2.2476000785827637, 2.2464001178741455, 2.2455999851226807, 2.2451999187469482, 2.2451000213623047, 2.244999885559082, 2.244499921798706, 2.2437000274658203, 2.2435998916625977, 2.243000030517578, 2.2404000759124756, 2.2376999855041504, 2.2374000549316406, 2.236999988555908, 2.236299991607666, 2.236299991607666, 2.2351999282836914, 2.2348999977111816, 2.2348999977111816, 2.234299898147583, 2.232300043106079, 2.2318999767303467, 2.231100082397461, 2.230799913406372, 2.2307000160217285, 1.8076000213623047, 1.8220000267028809, 1.1442999839782715, 0.7346000075340271, 2.669800043106079, 2.664299964904785, 2.661799907684326, 2.6600000858306885, 2.6594998836517334, 2.6584999561309814, 2.658400058746338, 2.6559998989105225, 2.655400037765503, 2.6545000076293945, 2.654400110244751, 2.6540000438690186, 2.653700113296509, 2.6533000469207764, 2.650599956512451, 2.649600028991699, 2.6491000652313232, 2.6491000652313232, 2.648400068283081, 2.648400068283081, 2.646899938583374, 2.6468000411987305, 2.6466000080108643, 2.646399974822998, 2.6459999084472656, 2.6451001167297363, 2.6440999507904053, 2.6440000534057617, 2.643699884414673, 2.6429998874664307, 2.640500068664551, 2.539599895477295], \"logprob\": [30.0, 29.0, 28.0, 27.0, 26.0, 25.0, 24.0, 23.0, 22.0, 21.0, 20.0, 19.0, 18.0, 17.0, 16.0, 15.0, 14.0, 13.0, 12.0, 11.0, 10.0, 9.0, 8.0, 7.0, 6.0, 5.0, 4.0, 3.0, 2.0, 1.0, -3.9665000438690186, -4.206399917602539, -4.388999938964844, -4.416600227355957, -4.452899932861328, -4.555200099945068, -4.582399845123291, -4.651299953460693, -4.732800006866455, -4.836299896240234, -4.8755998611450195, -4.8805999755859375, -4.892499923706055, -4.90880012512207, -4.940999984741211, -4.944200038909912, -4.947199821472168, -5.004799842834473, -5.150700092315674, -5.164899826049805, -5.184199810028076, -5.1855998039245605, -5.236400127410889, -5.238100051879883, -4.521399974822998, -5.310100078582764, -5.31879997253418, -5.3242998123168945, -5.329100131988525, -5.32919979095459, -4.446400165557861, -4.638500213623047, -4.759500026702881, -4.1596999168396, -4.12939977645874, -4.330900192260742, -4.06790018081665, -4.531199932098389, -4.694499969482422, -4.48960018157959, -4.748899936676025, -4.7058000564575195, -4.717400074005127, -4.900100231170654, -4.138400077819824, -4.1921000480651855, -4.257900238037109, -4.419099807739258, -4.39139986038208, -4.505799770355225, -4.64739990234375, -4.705900192260742, -4.78980016708374, -4.4770002365112305, -4.999100208282471, -4.991600036621094, -5.053199768066406, -5.118899822235107, -5.134300231933594, -5.134500026702881, -5.13640022277832, -5.139500141143799, -5.189000129699707, -5.193299770355225, -5.217400074005127, -5.225800037384033, -5.303400039672852, -5.337800025939941, -5.352399826049805, -5.358500003814697, -5.355999946594238, -5.381800174713135, -5.38539981842041, -5.4131999015808105, -5.312300205230713, -4.533199787139893, -4.18779993057251, -4.612199783325195, -4.826200008392334, -4.696499824523926, -4.679200172424316, -5.173500061035156, -5.0482001304626465, -4.924600124359131, -5.1691999435424805, -3.9784998893737793, -4.061299800872803, -4.085999965667725, -4.155799865722656, -4.684999942779541, -4.719699859619141, -4.761199951171875, -4.827400207519531, -4.841599941253662, -4.884200096130371, -4.502099990844727, -4.898900032043457, -4.921599864959717, -4.941999912261963, -4.9822001457214355, -5.010499954223633, -5.045300006866455, -5.0802001953125, -5.157599925994873, -4.0183000564575195, -5.240799903869629, -5.2733001708984375, -5.2947998046875, -5.296599864959717, -5.327300071716309, -5.333799839019775, -5.357600212097168, -5.3678998947143555, -5.380799770355225, -5.2947998046875, -5.133200168609619, -5.1082000732421875, -5.243500232696533, -5.102099895477295, -5.218299865722656, -5.22629976272583, -5.226099967956543, -3.506700038909912, -3.9182000160217285, -3.9542999267578125, -4.06279993057251, -4.285200119018555, -4.329599857330322, -4.514999866485596, -4.547699928283691, -4.674900054931641, -4.684000015258789, -4.705900192260742, -4.784800052642822, -4.797100067138672, -4.852200031280518, -4.867199897766113, -4.980500221252441, -4.984799861907959, -4.995200157165527, -5.064599990844727, -5.1178998947143555, -5.155900001525879, -5.188600063323975, -5.215700149536133, -5.241000175476074, -5.274499893188477, -5.367599964141846, -5.383900165557861, -5.3933000564575195, -5.463399887084961, -5.466100215911865, -4.434899806976318, -5.17710018157959, -5.39109992980957, -3.059000015258789, -3.4964001178741455, -3.7253000736236572, -3.940000057220459, -4.383900165557861, -4.6508002281188965, -4.696800231933594, -4.77239990234375, -4.822800159454346, -4.84689998626709, -4.852200031280518, -4.853700160980225, -4.8821001052856445, -4.93149995803833, -4.927700042724609, -4.967199802398682, -5.091700077056885, -5.212299823760986, -5.217299938201904, -5.229599952697754, -5.262499809265137, -5.262199878692627, -5.154699802398682, -5.319499969482422, -5.305799961090088, -5.343400001525879, -5.4045000076293945, -5.413700103759766, -5.449699878692627, -5.460599899291992, -5.374499797821045, -4.855999946594238, -5.214300155639648, -5.277100086212158, -5.355199813842773, -3.6138999462127686, -4.159599781036377, -4.343400001525879, -4.441299915313721, -4.462399959564209, -4.527500152587891, -4.5472002029418945, -4.662700176239014, -4.688600063323975, -4.7230000495910645, -4.728000164031982, -4.728300094604492, -4.76140022277832, -4.770299911499023, -4.8557000160217285, -4.9131999015808105, -4.9405999183654785, -4.933899879455566, -4.933899879455566, -4.9679999351501465, -5.016300201416016, -5.021900177001953, -5.030200004577637, -5.031199932098389, -5.024099826812744, -5.075500011444092, -5.106900215148926, -5.1107001304626465, -5.123199939727783, -5.13700008392334, -5.126299858093262, -5.101399898529053]}, \"token.table\": {\"Topic\": [2, 5, 2, 2, 1, 5, 2, 3, 1, 1, 6, 2, 3, 4, 3, 5, 1, 2, 4, 1, 4, 4, 5, 2, 2, 4, 2, 5, 6, 3, 6, 5, 6, 6, 4, 6, 6, 6, 1, 5, 3, 2, 2, 1, 2, 2, 4, 2, 2, 5, 6, 3, 5, 3, 3, 1, 6, 1, 2, 3, 6, 1, 2, 3, 4, 2, 2, 3, 5, 2, 4, 6, 1, 5, 6, 1, 3, 5, 5, 5, 4, 3, 1, 2, 4, 4, 4, 5, 4, 2, 2, 6, 1, 3, 3, 4, 1, 2, 1, 1, 2, 4, 4, 4, 1, 2, 4, 4, 2, 6, 6, 3, 6, 4, 3, 3, 5, 4, 2, 4, 5, 1, 4, 2, 1, 1, 3, 4, 1, 1, 6, 2, 1, 4, 1, 2, 3, 4, 1, 1, 1, 3, 1, 5, 1, 1, 5, 4, 3, 1, 4, 4, 4, 1, 2, 5, 1, 2, 3, 2, 6, 1, 3, 3, 2, 5, 2, 6, 3, 3, 3, 1, 3, 3, 3, 3, 4, 5, 4, 4, 6, 6, 6, 6, 4, 1, 3, 4, 5, 5, 2, 1, 5, 1, 3, 4, 3, 5, 1, 6, 5, 2, 3, 5, 2, 3, 1, 2, 1, 1, 2, 4, 3, 3, 3, 6, 1, 2, 1, 3, 2, 6, 1, 1, 2, 2, 5, 6, 2, 1, 4, 1, 6, 3, 2, 1, 2, 3, 6, 1, 1, 2, 5, 2, 1, 2, 5, 5, 6, 5, 5, 4, 1, 3, 5, 4, 1, 3, 2, 3, 6, 2, 4, 3, 5], \"Freq\": [0.9950501918792725, 0.9900412559509277, 0.98577880859375, 0.9816312193870544, 0.9927667379379272, 0.9578139185905457, 0.35449379682540894, 0.6356440186500549, 0.996854305267334, 0.9981250762939453, 0.9782518148422241, 0.10870397835969925, 0.8851609826087952, 0.991283655166626, 0.9936774373054504, 0.9885867238044739, 0.09253641217947006, 0.7094457745552063, 0.19741100072860718, 0.993165135383606, 0.9940134882926941, 0.9929946064949036, 0.9645000696182251, 0.9912917613983154, 0.9960840940475464, 0.98479825258255, 0.9980398416519165, 0.9962359070777893, 0.9717022776603699, 0.9837756752967834, 0.9659553170204163, 0.9814122915267944, 0.9795235395431519, 0.9556235074996948, 0.9860777258872986, 0.9886896014213562, 0.968977689743042, 0.9849526286125183, 0.9925799369812012, 0.9547975659370422, 0.994706392288208, 0.9900382161140442, 0.9937095642089844, 0.017091000452637672, 0.9741870760917664, 0.9948849081993103, 0.989715039730072, 0.9976479411125183, 0.9861524105072021, 0.9903137683868408, 0.9781029224395752, 0.9924348592758179, 0.9805284738540649, 0.9921457171440125, 0.9860470294952393, 0.988619327545166, 0.9715368151664734, 0.03362828120589256, 0.31386396288871765, 0.6501467823982239, 0.943042516708374, 0.5776530504226685, 0.35630935430526733, 0.05938488990068436, 0.005398626439273357, 0.9968357682228088, 0.9930979609489441, 0.9822278618812561, 0.96929931640625, 0.9792295694351196, 0.9778171181678772, 0.9798012971878052, 0.9977082014083862, 0.9827957153320312, 0.9857118725776672, 0.9959903955459595, 0.9857261776924133, 0.9889999032020569, 0.9834686517715454, 0.9617806077003479, 0.9725735187530518, 0.9847946166992188, 0.7645134925842285, 0.2300306111574173, 0.9675284624099731, 0.9945979714393616, 0.9743306040763855, 0.9670543670654297, 0.9908406138420105, 0.9940953254699707, 0.9873896837234497, 0.9877106547355652, 0.8040816187858582, 0.19089707732200623, 0.7801408767700195, 0.21415631473064423, 0.9864724278450012, 0.007588249631226063, 0.99373859167099, 0.9938359260559082, 0.8190175294876099, 0.17708486318588257, 0.9807635545730591, 0.9931540489196777, 0.2624713182449341, 0.7321568131446838, 0.006907139904797077, 0.9783113598823547, 0.9948643445968628, 0.9770081043243408, 0.9753775596618652, 0.9895079731941223, 0.9736397862434387, 0.9817383885383606, 0.982515275478363, 0.9894351959228516, 0.9975586533546448, 0.9937891364097595, 0.9869292974472046, 0.35761526226997375, 0.6407273411750793, 0.9886050224304199, 0.006725204177200794, 0.9951837658882141, 0.9970198273658752, 0.7365407347679138, 0.09045237302780151, 0.17229023575782776, 0.9925619959831238, 0.9962269067764282, 0.9725173711776733, 0.9879727959632874, 0.9968577027320862, 0.9765507578849792, 0.08435913175344467, 0.615118682384491, 0.007029927335679531, 0.29525694251060486, 0.9982064366340637, 0.9954242706298828, 0.9879381656646729, 0.005550214555114508, 0.6666454672813416, 0.327474981546402, 0.9899706840515137, 0.9936471581459045, 0.9780990481376648, 0.9867661595344543, 0.9848973155021667, 0.9910485744476318, 0.9942108392715454, 0.9804149270057678, 0.9920546412467957, 0.6166805624961853, 0.38089093565940857, 0.9857895970344543, 0.9800209403038025, 0.020588675513863564, 0.9930029511451721, 0.9922224879264832, 0.9735327959060669, 0.9901169538497925, 0.9825845956802368, 0.9888594150543213, 0.7807121872901917, 0.2182636260986328, 0.9964807629585266, 0.9760795831680298, 0.9867017269134521, 0.9894940853118896, 0.994380533695221, 0.9886605143547058, 0.005991882178932428, 0.9892750978469849, 0.9770352244377136, 0.6213817596435547, 0.16729509830474854, 0.20314404368400574, 0.9921824336051941, 0.9736928939819336, 0.9925847053527832, 0.9854589104652405, 0.9896141290664673, 0.970902681350708, 0.9947439432144165, 0.9899337887763977, 0.973026692867279, 0.9829172492027283, 0.9889869093894958, 0.9858385920524597, 0.9834589958190918, 0.9951137900352478, 0.985187828540802, 0.6406441330909729, 0.24140213429927826, 0.11605872213840485, 0.9927465319633484, 0.9551477432250977, 0.9928507804870605, 0.9784145951271057, 0.9706128835678101, 0.9929749965667725, 0.9967750906944275, 0.988574743270874, 0.4215238690376282, 0.5783699154853821, 0.9146274924278259, 0.0809093564748764, 0.9921135902404785, 0.3125349283218384, 0.6824742555618286, 0.9764173030853271, 0.9951227903366089, 0.9886292219161987, 0.9753360152244568, 0.9709293246269226, 0.23813337087631226, 0.7571420073509216, 0.9977540373802185, 0.9734625816345215, 0.9913753867149353, 0.9884917140007019, 0.9958656430244446, 0.8083384037017822, 0.18983705341815948, 0.9974124431610107, 0.98655104637146, 0.9793102145195007, 0.9882265329360962, 0.9931339621543884, 0.9890460968017578, 0.988238513469696, 0.9785001277923584, 0.9864511489868164, 0.991350531578064, 0.039599522948265076, 0.039599522948265076, 0.039599522948265076, 0.871189534664154, 0.9889524579048157, 0.9660142660140991, 0.031543321907520294, 0.9614785313606262, 0.993736982345581, 0.9489728808403015, 0.047448642551898956, 0.9663590788841248, 0.986084520816803, 0.9861684441566467, 0.9949132800102234, 0.9777159690856934, 0.9949930310249329, 0.011354698799550533, 0.987858772277832, 0.980587363243103, 0.98255854845047, 0.9298713207244873, 0.06803936511278152, 0.8900976181030273, 0.0958566665649414, 0.9880178570747375, 0.9881557822227478, 0.007543174084275961, 0.34608185291290283, 0.648903489112854], \"Term\": [\"actually\", \"alien\", \"also\", \"anyone\", \"anything\", \"anyway\", \"ask\", \"ask\", \"baby\", \"bad\", \"battle\", \"beautiful\", \"beautiful\", \"become\", \"begin\", \"better\", \"big\", \"big\", \"big\", \"body\", \"boy\", \"brain\", \"brave\", \"bring\", \"build\", \"business\", \"call\", \"captain\", \"card\", \"care\", \"change\", \"check\", \"child\", \"cold\", \"company\", \"complete\", \"computer\", \"count\", \"course\", \"crash\", \"crazy\", \"cut\", \"day\", \"dead\", \"dead\", \"dear\", \"death\", \"die\", \"do\", \"doctor\", \"dog\", \"dream\", \"drive\", \"earth\", \"else\", \"end\", \"enjoy\", \"enough\", \"enough\", \"enough\", \"erotic\", \"even\", \"even\", \"even\", \"even\", \"ever\", \"everyone\", \"everything\", \"exactly\", \"face\", \"farnsworth\", \"father\", \"feel\", \"fight\", \"fill\", \"find\", \"fire\", \"first\", \"fly\", \"follow\", \"form\", \"free\", \"friend\", \"friend\", \"full\", \"fun\", \"giant\", \"gift\", \"girl\", \"give\", \"god\", \"good_news\", \"great\", \"great\", \"hand\", \"hand\", \"happen\", \"happen\", \"happy\", \"head\", \"hear\", \"hear\", \"heart\", \"hell\", \"help\", \"help\", \"help\", \"high\", \"hole\", \"honour\", \"hot\", \"human\", \"hurt\", \"impossible\", \"job\", \"keep\", \"kif\", \"kill\", \"kind\", \"last\", \"last\", \"leave\", \"leave\", \"lie\", \"life\", \"little\", \"little\", \"little\", \"live\", \"long\", \"lord\", \"lot\", \"love\", \"low\", \"man\", \"man\", \"man\", \"man\", \"may\", \"maybe\", \"mean\", \"mean\", \"meet\", \"meet\", \"mind\", \"miss\", \"mission\", \"mon\", \"move\", \"much\", \"must\", \"mutant\", \"name\", \"need\", \"need\", \"neutral\", \"never\", \"never\", \"new\", \"next\", \"nibbler\", \"nice\", \"nose\", \"nothing\", \"old\", \"old\", \"order\", \"pant\", \"parent\", \"part\", \"pay\", \"people\", \"people\", \"perhaps\", \"pick\", \"place\", \"place\", \"place\", \"planet\", \"poem\", \"point\", \"poor\", \"prepare\", \"private\", \"professor\", \"put\", \"question\", \"quick\", \"quiet\", \"quite\", \"real\", \"really\", \"remember\", \"right\", \"right\", \"right\", \"robot\", \"rustler\", \"save\", \"send\", \"sex\", \"shall\", \"ship\", \"shoot\", \"show\", \"show\", \"sir\", \"sir\", \"someone\", \"something\", \"something\", \"son\", \"space\", \"start\", \"stay\", \"stick\", \"still\", \"still\", \"stop\", \"stuff\", \"suppose\", \"sweet\", \"talk\", \"tell\", \"tell\", \"thank\", \"together\", \"tomorrow\", \"true\", \"try\", \"turn\", \"understand\", \"uniform\", \"universe\", \"use\", \"velour\", \"velour\", \"velour\", \"velour\", \"wanna\", \"want\", \"want\", \"waste\", \"water\", \"way\", \"way\", \"week\", \"welcome\", \"win\", \"woman\", \"wong\", \"word\", \"work\", \"work\", \"world\", \"worry\", \"would\", \"would\", \"wrong\", \"wrong\", \"xma\", \"year\", \"year\", \"young\", \"young\"]}, \"R\": 30, \"lambda.step\": 0.01, \"plot.opts\": {\"xlab\": \"PC1\", \"ylab\": \"PC2\"}, \"topic.order\": [5, 6, 2, 3, 1, 4]};\n",
       "\n",
       "function LDAvis_load_lib(url, callback){\n",
       "  var s = document.createElement('script');\n",
       "  s.src = url;\n",
       "  s.async = true;\n",
       "  s.onreadystatechange = s.onload = callback;\n",
       "  s.onerror = function(){console.warn(\"failed to load library \" + url);};\n",
       "  document.getElementsByTagName(\"head\")[0].appendChild(s);\n",
       "}\n",
       "\n",
       "if(typeof(LDAvis) !== \"undefined\"){\n",
       "   // already loaded: just create the visualization\n",
       "   !function(LDAvis){\n",
       "       new LDAvis(\"#\" + \"ldavis_el102551122706292884813597872\", ldavis_el102551122706292884813597872_data);\n",
       "   }(LDAvis);\n",
       "}else if(typeof define === \"function\" && define.amd){\n",
       "   // require.js is available: use it to load d3/LDAvis\n",
       "   require.config({paths: {d3: \"https://cdnjs.cloudflare.com/ajax/libs/d3/3.5.5/d3.min\"}});\n",
       "   require([\"d3\"], function(d3){\n",
       "      window.d3 = d3;\n",
       "      LDAvis_load_lib(\"https://cdn.rawgit.com/bmabey/pyLDAvis/files/ldavis.v1.0.0.js\", function(){\n",
       "        new LDAvis(\"#\" + \"ldavis_el102551122706292884813597872\", ldavis_el102551122706292884813597872_data);\n",
       "      });\n",
       "    });\n",
       "}else{\n",
       "    // require.js not available: dynamically load d3 & LDAvis\n",
       "    LDAvis_load_lib(\"https://cdnjs.cloudflare.com/ajax/libs/d3/3.5.5/d3.min.js\", function(){\n",
       "         LDAvis_load_lib(\"https://cdn.rawgit.com/bmabey/pyLDAvis/files/ldavis.v1.0.0.js\", function(){\n",
       "                 new LDAvis(\"#\" + \"ldavis_el102551122706292884813597872\", ldavis_el102551122706292884813597872_data);\n",
       "            })\n",
       "         });\n",
       "}\n",
       "</script>"
      ],
      "text/plain": [
       "PreparedData(topic_coordinates=              x         y  topics  cluster       Freq\n",
       "topic                                                \n",
       "4      0.302584 -0.018660       1        1  28.938192\n",
       "5      0.161261  0.138450       2        1  21.990057\n",
       "1     -0.047683 -0.350851       3        1  18.383308\n",
       "2     -0.088429  0.090519       4        1  13.405289\n",
       "0     -0.203266  0.100418       5        1  10.409435\n",
       "3     -0.124467  0.040124       6        1   6.873720, topic_info=     Category        Freq       Term       Total  loglift  logprob\n",
       "1998  Default  257.000000        kif  257.000000  30.0000  30.0000\n",
       "285   Default  212.000000  professor  212.000000  29.0000  29.0000\n",
       "447   Default  166.000000    captain  166.000000  28.0000  28.0000\n",
       "337   Default  288.000000       love  288.000000  27.0000  27.0000\n",
       "576   Default  181.000000       ship  181.000000  26.0000  26.0000\n",
       "158   Default  132.000000      woman  132.000000  25.0000  25.0000\n",
       "329   Default  176.000000       work  176.000000  24.0000  24.0000\n",
       "288   Default  140.000000       must  140.000000  23.0000  23.0000\n",
       "78    Default  167.000000      robot  167.000000  22.0000  22.0000\n",
       "39    Default  185.000000       give  185.000000  21.0000  21.0000\n",
       "50    Default  227.000000        may  227.000000  20.0000  20.0000\n",
       "74    Default  163.000000        new  163.000000  19.0000  19.0000\n",
       "961   Default  135.000000       kill  135.000000  18.0000  18.0000\n",
       "21    Default  242.000000      never  242.000000  17.0000  17.0000\n",
       "157   Default  253.000000       want  253.000000  16.0000  16.0000\n",
       "1394  Default   98.000000      sweet   98.000000  15.0000  15.0000\n",
       "339   Default  175.000000      thank  175.000000  14.0000  14.0000\n",
       "244   Default  284.000000        sir  284.000000  13.0000  13.0000\n",
       "28    Default  152.000000      earth  152.000000  12.0000  12.0000\n",
       "67    Default  164.000000       call  164.000000  11.0000  11.0000\n",
       "206   Default  121.000000     planet  121.000000  10.0000  10.0000\n",
       "125   Default  107.000000      first  107.000000   9.0000   9.0000\n",
       "130   Default  284.000000        man  284.000000   8.0000   8.0000\n",
       "7     Default  189.000000       life  189.000000   7.0000   7.0000\n",
       "109   Default  184.000000       stop  184.000000   6.0000   6.0000\n",
       "89    Default  177.000000     really  177.000000   5.0000   5.0000\n",
       "102   Default  143.000000        day  143.000000   4.0000   4.0000\n",
       "277   Default  210.000000        way  210.000000   3.0000   3.0000\n",
       "410   Default  180.000000       mean  180.000000   2.0000   2.0000\n",
       "123   Default  139.000000   everyone  139.000000   1.0000   1.0000\n",
       "...       ...         ...        ...         ...      ...      ...\n",
       "507    Topic6   46.950718       poor   47.693516   2.6618  -4.3434\n",
       "1040   Topic6   42.571491      point   43.321239   2.6600  -4.4413\n",
       "1658   Topic6   41.684521    prepare   42.440784   2.6595  -4.4624\n",
       "1911   Topic6   39.056980     father   39.803989   2.6585  -4.5275\n",
       "741    Topic6   38.294159    nibbler   39.033096   2.6584  -4.5472\n",
       "437    Topic6   34.116367        hot   34.858295   2.6560  -4.6627\n",
       "1136   Topic6   33.245941      stick   33.988056   2.6554  -4.6886\n",
       "627    Topic6   32.121273       hurt   32.866364   2.6545  -4.7230\n",
       "867    Topic6   31.960857       send   32.705971   2.6544  -4.7280\n",
       "1433   Topic6   31.951536     battle   32.711414   2.6540  -4.7283\n",
       "2050   Topic6   30.910538   tomorrow   31.654934   2.6537  -4.7614\n",
       "2098   Topic6   30.636242  good_news   31.385710   2.6533  -4.7703\n",
       "1334   Topic6   28.129494   computer   28.896435   2.6506  -4.8557\n",
       "2285   Topic6   26.557100   complete   27.308874   2.6496  -4.9132\n",
       "435    Topic6   25.838127        dog   26.582069   2.6491  -4.9406\n",
       "412    Topic6   26.012739      enjoy   26.761724   2.6491  -4.9339\n",
       "1187   Topic6   26.012268    private   26.779203   2.6484  -4.9339\n",
       "433    Topic6   25.139788     change   25.881115   2.6484  -4.9680\n",
       "503    Topic6   23.955763       card   24.698923   2.6469  -5.0163\n",
       "626    Topic6   23.821953     honour   24.564791   2.6468  -5.0219\n",
       "434    Topic6   23.625006      count   24.366653   2.6466  -5.0302\n",
       "3005   Topic6   23.602051       fill   24.347885   2.6464  -5.0312\n",
       "3220   Topic6   23.768538    uniform   24.527334   2.6460  -5.0241\n",
       "904    Topic6   22.578939        win   23.322588   2.6451  -5.0755\n",
       "114    Topic6   21.879957       lord   22.621704   2.6441  -5.1069\n",
       "1078   Topic6   21.796507       pant   22.539146   2.6440  -5.1107\n",
       "1029   Topic6   21.526539        xma   22.266804   2.6437  -5.1232\n",
       "778    Topic6   21.231260       cold   21.975182   2.6430  -5.1370\n",
       "1075   Topic6   21.460506     erotic   22.268349   2.6405  -5.1263\n",
       "4649   Topic6   22.001524     velour   25.252829   2.5396  -5.1014\n",
       "\n",
       "[252 rows x 6 columns], token_table=      Topic      Freq       Term\n",
       "term                            \n",
       "33        2  0.995050   actually\n",
       "26        5  0.990041      alien\n",
       "612       2  0.985779       also\n",
       "465       2  0.981631     anyone\n",
       "59        1  0.992767   anything\n",
       "174       5  0.957814     anyway\n",
       "17        2  0.354494        ask\n",
       "17        3  0.635644        ask\n",
       "0         1  0.996854       baby\n",
       "96        1  0.998125        bad\n",
       "1433      6  0.978252     battle\n",
       "1019      2  0.108704  beautiful\n",
       "1019      3  0.885161  beautiful\n",
       "461       4  0.991284     become\n",
       "34        3  0.993677      begin\n",
       "601       5  0.988587     better\n",
       "253       1  0.092536        big\n",
       "253       2  0.709446        big\n",
       "253       4  0.197411        big\n",
       "1000      1  0.993165       body\n",
       "99        4  0.994013        boy\n",
       "946       4  0.992995      brain\n",
       "175       5  0.964500      brave\n",
       "120       2  0.991292      bring\n",
       "660       2  0.996084      build\n",
       "1372      4  0.984798   business\n",
       "67        2  0.998040       call\n",
       "447       5  0.996236    captain\n",
       "503       6  0.971702       card\n",
       "101       3  0.983776       care\n",
       "...     ...       ...        ...\n",
       "4649      1  0.039600     velour\n",
       "4649      2  0.039600     velour\n",
       "4649      3  0.039600     velour\n",
       "4649      6  0.871190     velour\n",
       "190       1  0.988952      wanna\n",
       "157       1  0.966014       want\n",
       "157       2  0.031543       want\n",
       "888       5  0.961479      waste\n",
       "1247      2  0.993737      water\n",
       "277       1  0.948973        way\n",
       "277       2  0.047449        way\n",
       "278       5  0.966359       week\n",
       "1224      5  0.986085    welcome\n",
       "904       6  0.986168        win\n",
       "158       5  0.994913      woman\n",
       "2325      5  0.977716       wong\n",
       "811       4  0.994993       word\n",
       "329       1  0.011355       work\n",
       "329       3  0.987859       work\n",
       "144       5  0.980587      world\n",
       "659       4  0.982559      worry\n",
       "90        1  0.929871      would\n",
       "90        3  0.068039      would\n",
       "368       2  0.890098      wrong\n",
       "368       3  0.095857      wrong\n",
       "1029      6  0.988018        xma\n",
       "58        2  0.988156       year\n",
       "58        4  0.007543       year\n",
       "2558      3  0.346082      young\n",
       "2558      5  0.648903      young\n",
       "\n",
       "[265 rows x 3 columns], R=30, lambda_step=0.01, plot_opts={'xlab': 'PC1', 'ylab': 'PC2'}, topic_order=[5, 6, 2, 3, 1, 4])"
      ]
     },
     "execution_count": 54,
     "metadata": {},
     "output_type": "execute_result"
    }
   ],
   "source": [
    "# Visualize the topics\n",
    "pyLDAvis.enable_notebook()\n",
    "vis = pyLDAvis.gensim.prepare(lda_model, corpus, id2word)\n",
    "vis"
   ]
  },
  {
   "cell_type": "code",
   "execution_count": 40,
   "metadata": {},
   "outputs": [
    {
     "data": {
      "text/html": [
       "<div>\n",
       "<style scoped>\n",
       "    .dataframe tbody tr th:only-of-type {\n",
       "        vertical-align: middle;\n",
       "    }\n",
       "\n",
       "    .dataframe tbody tr th {\n",
       "        vertical-align: top;\n",
       "    }\n",
       "\n",
       "    .dataframe thead th {\n",
       "        text-align: right;\n",
       "    }\n",
       "</style>\n",
       "<table border=\"1\" class=\"dataframe\">\n",
       "  <thead>\n",
       "    <tr style=\"text-align: right;\">\n",
       "      <th></th>\n",
       "      <th>Document_No</th>\n",
       "      <th>Dominant_Topic</th>\n",
       "      <th>Topic_Perc_Contrib</th>\n",
       "      <th>Keywords</th>\n",
       "      <th>Text</th>\n",
       "    </tr>\n",
       "  </thead>\n",
       "  <tbody>\n",
       "    <tr>\n",
       "      <th>0</th>\n",
       "      <td>0</td>\n",
       "      <td>4.0</td>\n",
       "      <td>0.4349</td>\n",
       "      <td>kill, great, put, nice, anything, end, mind, p...</td>\n",
       "      <td>[space, seem, go, forever, get, end, gorilla, ...</td>\n",
       "    </tr>\n",
       "    <tr>\n",
       "      <th>1</th>\n",
       "      <td>1</td>\n",
       "      <td>5.0</td>\n",
       "      <td>0.3595</td>\n",
       "      <td>kif, man, love, want, never, little, right, ca...</td>\n",
       "      <td>[future, parent, girlfriend, never, see, yahoo...</td>\n",
       "    </tr>\n",
       "    <tr>\n",
       "      <th>2</th>\n",
       "      <td>2</td>\n",
       "      <td>5.0</td>\n",
       "      <td>0.3361</td>\n",
       "      <td>kif, man, love, want, never, little, right, ca...</td>\n",
       "      <td>[sort, eye, cool, alien, race, take, earth, wa...</td>\n",
       "    </tr>\n",
       "    <tr>\n",
       "      <th>3</th>\n",
       "      <td>3</td>\n",
       "      <td>5.0</td>\n",
       "      <td>0.3998</td>\n",
       "      <td>kif, man, love, want, never, little, right, ca...</td>\n",
       "      <td>[year, know, guess, actually, glad, nothing, l...</td>\n",
       "    </tr>\n",
       "    <tr>\n",
       "      <th>4</th>\n",
       "      <td>4</td>\n",
       "      <td>5.0</td>\n",
       "      <td>0.2566</td>\n",
       "      <td>kif, man, love, want, never, little, right, ca...</td>\n",
       "      <td>[delivery_boy, anything, else, refuse, fine, d...</td>\n",
       "    </tr>\n",
       "    <tr>\n",
       "      <th>5</th>\n",
       "      <td>5</td>\n",
       "      <td>5.0</td>\n",
       "      <td>0.3474</td>\n",
       "      <td>kif, man, love, want, never, little, right, ca...</td>\n",
       "      <td>[see, thousand_year, owe, whoa, cool, cross, t...</td>\n",
       "    </tr>\n",
       "    <tr>\n",
       "      <th>6</th>\n",
       "      <td>6</td>\n",
       "      <td>5.0</td>\n",
       "      <td>0.3683</td>\n",
       "      <td>kif, man, love, want, never, little, right, ca...</td>\n",
       "      <td>[place, collect, call, help, happen, would, ro...</td>\n",
       "    </tr>\n",
       "    <tr>\n",
       "      <th>7</th>\n",
       "      <td>7</td>\n",
       "      <td>5.0</td>\n",
       "      <td>0.3764</td>\n",
       "      <td>kif, man, love, want, never, little, right, ca...</td>\n",
       "      <td>[wait, friend, ever, oh, cyclop, look, look, s...</td>\n",
       "    </tr>\n",
       "    <tr>\n",
       "      <th>8</th>\n",
       "      <td>8</td>\n",
       "      <td>5.0</td>\n",
       "      <td>0.2677</td>\n",
       "      <td>kif, man, love, want, never, little, right, ca...</td>\n",
       "      <td>[unbelievable, head, day, stop, boy, bad, pres...</td>\n",
       "    </tr>\n",
       "    <tr>\n",
       "      <th>9</th>\n",
       "      <td>9</td>\n",
       "      <td>5.0</td>\n",
       "      <td>0.3561</td>\n",
       "      <td>kif, man, love, want, never, little, right, ca...</td>\n",
       "      <td>[mon, make, decision, life, separate, people, ...</td>\n",
       "    </tr>\n",
       "  </tbody>\n",
       "</table>\n",
       "</div>"
      ],
      "text/plain": [
       "   Document_No  Dominant_Topic  Topic_Perc_Contrib  \\\n",
       "0            0             4.0              0.4349   \n",
       "1            1             5.0              0.3595   \n",
       "2            2             5.0              0.3361   \n",
       "3            3             5.0              0.3998   \n",
       "4            4             5.0              0.2566   \n",
       "5            5             5.0              0.3474   \n",
       "6            6             5.0              0.3683   \n",
       "7            7             5.0              0.3764   \n",
       "8            8             5.0              0.2677   \n",
       "9            9             5.0              0.3561   \n",
       "\n",
       "                                            Keywords  \\\n",
       "0  kill, great, put, nice, anything, end, mind, p...   \n",
       "1  kif, man, love, want, never, little, right, ca...   \n",
       "2  kif, man, love, want, never, little, right, ca...   \n",
       "3  kif, man, love, want, never, little, right, ca...   \n",
       "4  kif, man, love, want, never, little, right, ca...   \n",
       "5  kif, man, love, want, never, little, right, ca...   \n",
       "6  kif, man, love, want, never, little, right, ca...   \n",
       "7  kif, man, love, want, never, little, right, ca...   \n",
       "8  kif, man, love, want, never, little, right, ca...   \n",
       "9  kif, man, love, want, never, little, right, ca...   \n",
       "\n",
       "                                                Text  \n",
       "0  [space, seem, go, forever, get, end, gorilla, ...  \n",
       "1  [future, parent, girlfriend, never, see, yahoo...  \n",
       "2  [sort, eye, cool, alien, race, take, earth, wa...  \n",
       "3  [year, know, guess, actually, glad, nothing, l...  \n",
       "4  [delivery_boy, anything, else, refuse, fine, d...  \n",
       "5  [see, thousand_year, owe, whoa, cool, cross, t...  \n",
       "6  [place, collect, call, help, happen, would, ro...  \n",
       "7  [wait, friend, ever, oh, cyclop, look, look, s...  \n",
       "8  [unbelievable, head, day, stop, boy, bad, pres...  \n",
       "9  [mon, make, decision, life, separate, people, ...  "
      ]
     },
     "execution_count": 40,
     "metadata": {},
     "output_type": "execute_result"
    }
   ],
   "source": [
    "def format_topics_sentences(ldamodel=None, corpus=corpus, texts=data_lemmatized):\n",
    "    # Init output\n",
    "    sent_topics_df = pd.DataFrame()\n",
    "\n",
    "    # Get main topic in each document\n",
    "    for i, row_list in enumerate(ldamodel[corpus]):\n",
    "        row = row_list[0] if ldamodel.per_word_topics else row_list            \n",
    "        # print(row)\n",
    "        row = sorted(row, key=lambda x: (x[1]), reverse=True)\n",
    "        # Get the Dominant topic, Perc Contribution and Keywords for each document\n",
    "        for j, (topic_num, prop_topic) in enumerate(row):\n",
    "            if j == 0:  # => dominant topic\n",
    "                wp = ldamodel.show_topic(topic_num)\n",
    "                topic_keywords = \", \".join([word for word, prop in wp])\n",
    "                sent_topics_df = sent_topics_df.append(pd.Series([int(topic_num), round(prop_topic,4), topic_keywords]), ignore_index=True)\n",
    "            else:\n",
    "                break\n",
    "    sent_topics_df.columns = ['Dominant_Topic', 'Perc_Contribution', 'Topic_Keywords']\n",
    "\n",
    "    # Add original text to the end of the output\n",
    "    contents = pd.Series(texts)\n",
    "    sent_topics_df = pd.concat([sent_topics_df, contents], axis=1)\n",
    "    return(sent_topics_df)\n",
    "\n",
    "\n",
    "df_topic_sents_keywords = format_topics_sentences(ldamodel=lda_model, corpus=corpus, texts=data_lemmatized)\n",
    "\n",
    "# Format\n",
    "df_dominant_topic = df_topic_sents_keywords.reset_index()\n",
    "df_dominant_topic.columns = ['Document_No', 'Dominant_Topic', 'Topic_Perc_Contrib', 'Keywords', 'Text']\n",
    "df_dominant_topic.head(10)"
   ]
  },
  {
   "cell_type": "code",
   "execution_count": 41,
   "metadata": {
    "scrolled": true
   },
   "outputs": [
    {
     "data": {
      "text/html": [
       "<div>\n",
       "<style scoped>\n",
       "    .dataframe tbody tr th:only-of-type {\n",
       "        vertical-align: middle;\n",
       "    }\n",
       "\n",
       "    .dataframe tbody tr th {\n",
       "        vertical-align: top;\n",
       "    }\n",
       "\n",
       "    .dataframe thead th {\n",
       "        text-align: right;\n",
       "    }\n",
       "</style>\n",
       "<table border=\"1\" class=\"dataframe\">\n",
       "  <thead>\n",
       "    <tr style=\"text-align: right;\">\n",
       "      <th></th>\n",
       "      <th>Topic_Num</th>\n",
       "      <th>Topic_Perc_Contrib</th>\n",
       "      <th>Keywords</th>\n",
       "      <th>Representative Text</th>\n",
       "    </tr>\n",
       "  </thead>\n",
       "  <tbody>\n",
       "    <tr>\n",
       "      <th>0</th>\n",
       "      <td>0.0</td>\n",
       "      <td>0.4483</td>\n",
       "      <td>woman, always, world, poor, fight, matter, fly, job, low, doctor</td>\n",
       "      <td>[comfy, batter, batter, batter, anymore, batter, batter, batter, batter, batter, batter, batter,...</td>\n",
       "    </tr>\n",
       "    <tr>\n",
       "      <th>1</th>\n",
       "      <td>1.0</td>\n",
       "      <td>0.3023</td>\n",
       "      <td>stay, father, wife, wave, deep, waste, doom, money, air, join</td>\n",
       "      <td>[weak, know, place, great, artificial, gravity, air, gopher, may, well, stay, earth, come, see, ...</td>\n",
       "    </tr>\n",
       "    <tr>\n",
       "      <th>2</th>\n",
       "      <td>2.0</td>\n",
       "      <td>0.3810</td>\n",
       "      <td>stop, mean, happen, space, turn, word, last, move, blow, worry</td>\n",
       "      <td>[ask, oracle, think, go, pull, major, theft, thursday, familiar, particular, location, word, mal...</td>\n",
       "    </tr>\n",
       "    <tr>\n",
       "      <th>3</th>\n",
       "      <td>3.0</td>\n",
       "      <td>0.3219</td>\n",
       "      <td>ship, sweet, stand, kid, hooray, fat, quiet, catch, mix, law</td>\n",
       "      <td>[old, listen, kid, get, lawn, get, talk, hump, syndrome, stick, old, people, horrific, come, ste...</td>\n",
       "    </tr>\n",
       "    <tr>\n",
       "      <th>4</th>\n",
       "      <td>4.0</td>\n",
       "      <td>0.4349</td>\n",
       "      <td>kill, great, put, nice, anything, end, mind, perhaps, understand, baby</td>\n",
       "      <td>[space, seem, go, forever, get, end, gorilla, start, throw, barrel, play, game, michelle, baby, ...</td>\n",
       "    </tr>\n",
       "    <tr>\n",
       "      <th>5</th>\n",
       "      <td>5.0</td>\n",
       "      <td>0.7207</td>\n",
       "      <td>kif, man, love, want, never, little, right, captain, way, may</td>\n",
       "      <td>[sound, could, little, oil, crud, cent, short, old, bank, maybe, account, still, open, open, acc...</td>\n",
       "    </tr>\n",
       "    <tr>\n",
       "      <th>6</th>\n",
       "      <td>6.0</td>\n",
       "      <td>0.3780</td>\n",
       "      <td>professor, new, year, first, leave, name, ask, parent, bring, start</td>\n",
       "      <td>[old, neighbourhood, man, bring, back, lot, memory, bring, girlfriend, first, date, god, go, eve...</td>\n",
       "    </tr>\n",
       "    <tr>\n",
       "      <th>7</th>\n",
       "      <td>7.0</td>\n",
       "      <td>0.2736</td>\n",
       "      <td>talk, someone, head, hell, mon, run, fine, ready, heart, fun</td>\n",
       "      <td>[outlaw, slurm, pay, attention, sir, grandpa, make, crazy, story, wish, slurm, mackenzie, enjoy,...</td>\n",
       "    </tr>\n",
       "    <tr>\n",
       "      <th>8</th>\n",
       "      <td>8.0</td>\n",
       "      <td>0.3377</td>\n",
       "      <td>friend, eat, part, true, anyone, free, business, point, party, cute</td>\n",
       "      <td>[know, big, vinnie, say, give, kiss, death, still, think, gay, little, ok, happen, feel, weird, ...</td>\n",
       "    </tr>\n",
       "    <tr>\n",
       "      <th>9</th>\n",
       "      <td>9.0</td>\n",
       "      <td>0.3760</td>\n",
       "      <td>sir, need, would, earth, bad, keep, place, fire, happy, watch</td>\n",
       "      <td>[get, lot, kansa, check, new, security, guard, get, badge, flashlight, order, mustache, restart,...</td>\n",
       "    </tr>\n",
       "  </tbody>\n",
       "</table>\n",
       "</div>"
      ],
      "text/plain": [
       "   Topic_Num  Topic_Perc_Contrib  \\\n",
       "0        0.0              0.4483   \n",
       "1        1.0              0.3023   \n",
       "2        2.0              0.3810   \n",
       "3        3.0              0.3219   \n",
       "4        4.0              0.4349   \n",
       "5        5.0              0.7207   \n",
       "6        6.0              0.3780   \n",
       "7        7.0              0.2736   \n",
       "8        8.0              0.3377   \n",
       "9        9.0              0.3760   \n",
       "\n",
       "                                                                 Keywords  \\\n",
       "0        woman, always, world, poor, fight, matter, fly, job, low, doctor   \n",
       "1           stay, father, wife, wave, deep, waste, doom, money, air, join   \n",
       "2          stop, mean, happen, space, turn, word, last, move, blow, worry   \n",
       "3            ship, sweet, stand, kid, hooray, fat, quiet, catch, mix, law   \n",
       "4  kill, great, put, nice, anything, end, mind, perhaps, understand, baby   \n",
       "5           kif, man, love, want, never, little, right, captain, way, may   \n",
       "6     professor, new, year, first, leave, name, ask, parent, bring, start   \n",
       "7            talk, someone, head, hell, mon, run, fine, ready, heart, fun   \n",
       "8     friend, eat, part, true, anyone, free, business, point, party, cute   \n",
       "9           sir, need, would, earth, bad, keep, place, fire, happy, watch   \n",
       "\n",
       "                                                                                   Representative Text  \n",
       "0  [comfy, batter, batter, batter, anymore, batter, batter, batter, batter, batter, batter, batter,...  \n",
       "1  [weak, know, place, great, artificial, gravity, air, gopher, may, well, stay, earth, come, see, ...  \n",
       "2  [ask, oracle, think, go, pull, major, theft, thursday, familiar, particular, location, word, mal...  \n",
       "3  [old, listen, kid, get, lawn, get, talk, hump, syndrome, stick, old, people, horrific, come, ste...  \n",
       "4  [space, seem, go, forever, get, end, gorilla, start, throw, barrel, play, game, michelle, baby, ...  \n",
       "5  [sound, could, little, oil, crud, cent, short, old, bank, maybe, account, still, open, open, acc...  \n",
       "6  [old, neighbourhood, man, bring, back, lot, memory, bring, girlfriend, first, date, god, go, eve...  \n",
       "7  [outlaw, slurm, pay, attention, sir, grandpa, make, crazy, story, wish, slurm, mackenzie, enjoy,...  \n",
       "8  [know, big, vinnie, say, give, kiss, death, still, think, gay, little, ok, happen, feel, weird, ...  \n",
       "9  [get, lot, kansa, check, new, security, guard, get, badge, flashlight, order, mustache, restart,...  "
      ]
     },
     "execution_count": 41,
     "metadata": {},
     "output_type": "execute_result"
    }
   ],
   "source": [
    "# Display setting to show more characters in column\n",
    "pd.options.display.max_colwidth = 100\n",
    "\n",
    "sent_topics_sorteddf_mallet = pd.DataFrame()\n",
    "sent_topics_outdf_grpd = df_topic_sents_keywords.groupby('Dominant_Topic')\n",
    "\n",
    "for i, grp in sent_topics_outdf_grpd:\n",
    "    sent_topics_sorteddf_mallet = pd.concat([sent_topics_sorteddf_mallet, \n",
    "                                             grp.sort_values(['Perc_Contribution'], ascending=False).head(1)], \n",
    "                                            axis=0)\n",
    "\n",
    "# Reset Index    \n",
    "sent_topics_sorteddf_mallet.reset_index(drop=True, inplace=True)\n",
    "\n",
    "# Format\n",
    "sent_topics_sorteddf_mallet.columns = ['Topic_Num', \"Topic_Perc_Contrib\", \"Keywords\", \"Representative Text\"]\n",
    "\n",
    "# Show\n",
    "sent_topics_sorteddf_mallet.head(10)"
   ]
  }
 ],
 "metadata": {
  "kernelspec": {
   "display_name": "metis",
   "language": "python",
   "name": "metis"
  },
  "language_info": {
   "codemirror_mode": {
    "name": "ipython",
    "version": 3
   },
   "file_extension": ".py",
   "mimetype": "text/x-python",
   "name": "python",
   "nbconvert_exporter": "python",
   "pygments_lexer": "ipython3",
   "version": "3.7.3"
  },
  "varInspector": {
   "cols": {
    "lenName": 16,
    "lenType": 16,
    "lenVar": 40
   },
   "kernels_config": {
    "python": {
     "delete_cmd_postfix": "",
     "delete_cmd_prefix": "del ",
     "library": "var_list.py",
     "varRefreshCmd": "print(var_dic_list())"
    },
    "r": {
     "delete_cmd_postfix": ") ",
     "delete_cmd_prefix": "rm(",
     "library": "var_list.r",
     "varRefreshCmd": "cat(var_dic_list()) "
    }
   },
   "types_to_exclude": [
    "module",
    "function",
    "builtin_function_or_method",
    "instance",
    "_Feature"
   ],
   "window_display": false
  }
 },
 "nbformat": 4,
 "nbformat_minor": 2
}
